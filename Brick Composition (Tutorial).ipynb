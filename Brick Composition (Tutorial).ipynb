{
 "cells": [
  {
   "cell_type": "code",
   "execution_count": 1,
   "metadata": {
    "collapsed": false
   },
   "outputs": [],
   "source": [
    "# Install necessary Python pakcages\n",
    "# rdflib: RDF composition and querying with SPARQL in Python.\n",
    "try:\n",
    "    import rdflib\n",
    "except ImportError as e:\n",
    "    import pip\n",
    "    pip.main(['install', 'rdflib'])\n",
    "    import rdflib\n",
    "from rdflib import RDFS, RDF, Namespace, Graph, URIRef\n",
    "\n",
    "# Other imports\n",
    "from common import *"
   ]
  },
  {
   "cell_type": "code",
   "execution_count": 2,
   "metadata": {
    "collapsed": false
   },
   "outputs": [
    {
     "data": {
      "text/plain": [
       "\"# Helper functions\\ndef is_notebook():\\n    try:\\n        shell = get_ipython().__class__.__name__\\n        if shell == 'ZMQInteractiveShell':\\n            return True   # Jupyter notebook or qtconsole\\n        elif shell == 'TerminalInteractiveShell':\\n            return False  # Terminal running IPython\\n        else:\\n            return False  # Other type (?)\\n    except NameError:\\n        return False      # Probably standard Python interpreter\\n\\ndef print_graph(g):\\n    g_str = g.serialize(format='turtle').decode('utf-8')\\n    if is_notebook():\\n        display(Markdown('```turtle\\n' + g_str + '\\n```'))\\n    else:\\n        print(g_str)\\n        \""
      ]
     },
     "execution_count": 2,
     "metadata": {},
     "output_type": "execute_result"
    }
   ],
   "source": [
    "\"\"\"# Helper functions\n",
    "def is_notebook():\n",
    "    try:\n",
    "        shell = get_ipython().__class__.__name__\n",
    "        if shell == 'ZMQInteractiveShell':\n",
    "            return True   # Jupyter notebook or qtconsole\n",
    "        elif shell == 'TerminalInteractiveShell':\n",
    "            return False  # Terminal running IPython\n",
    "        else:\n",
    "            return False  # Other type (?)\n",
    "    except NameError:\n",
    "        return False      # Probably standard Python interpreter\n",
    "\n",
    "def print_graph(g):\n",
    "    g_str = g.serialize(format='turtle').decode('utf-8')\n",
    "    if is_notebook():\n",
    "        display(Markdown('```turtle\\n' + g_str + '\\n```'))\n",
    "    else:\n",
    "        print(g_str)\n",
    "        \"\"\""
   ]
  },
  {
   "cell_type": "markdown",
   "metadata": {},
   "source": [
    "## 1. Initialize a graph and define namespaces\n",
    "1. Initialize a graph in rdflib. A graph in RDF is like a whiteboard where you will put your triples.\n",
    "2. A URI represents an entity and a URI consists of a namespace and an identifier. All URIs should be unique and namespaces are prefixes that help avoiding reusing the same identifiers in other domains.\n",
    "  - Namespace: \"http://example.com#\", Identifier: \"AHU-1\", -> URI: \"http://example.com#AHU-1\"\n",
    "  - E.g., If you want to use AHU-1 for Building-A and Building-B, you may want to use different namespaces for different buildings while using AHU-1 consistently.\n",
    "3. We use following namespaces:\n",
    "  - RDFS and RDF are namespaces defined for general purpose in Semantic Web.\n",
    "  - BRICK is Brick's namespace for TagSets. \n",
    "  - EX is our building's namespace. We will intantiate our entities under this namespace."
   ]
  },
  {
   "cell_type": "code",
   "execution_count": 3,
   "metadata": {
    "collapsed": false
   },
   "outputs": [],
   "source": [
    "g = Graph() # Initialize a graph\n",
    "RDFS # predefined namespace as 'http://www.w3.org/2000/01/rdf-schema#'\n",
    "RDF # predefined namespace as 'http://www.w3.org/1999/02/22-rdf-syntax-ns#'\n",
    "BRICK = Namespace('https://brickschema.org/schema/1.0.1/Brick#')\n",
    "BF = Namespace('https://brickschema.org/schema/1.0.1/BrickFrame#')\n",
    "EX = Namespace('http://example.com#')\n",
    "g.bind('ex', EX)\n",
    "g.bind('brick', BRICK)\n",
    "g.bind('bf', BF)\n",
    "g.bind('rdfs', RDFS)\n",
    "g.bind('rdf', RDF)"
   ]
  },
  {
   "cell_type": "markdown",
   "metadata": {},
   "source": [
    "## 2. Adding triples\n",
    "### 2.1. Your fisrt triple.\n",
    "1. Each triple consists of Subject-Predicate-Object. Each of S-P-O is a URI.\n",
    "2. Let's make \"AHU-1 is an instance of AHU TagSet\". AHU-1 is the name of our instance in EX. AHU in Brick is a TagSet. AHU-1 and AHU is associated with instantiation relationship. \n",
    "3. In RDF (Turtle syntax), their full URIs are:\n",
    "  - ```turtle\n",
    "    <http://example.com#AHU-1>\n",
    "    ```\n",
    "  - ```turtle\n",
    "    <http://www.w3.org/1999/02/22-rdf-syntax-ns#type>\n",
    "    ```\n",
    "  - ```turtle\n",
    "    <https://brickschema.org/schema/1.0.1/Brick#AHU>\n",
    "    ```\n",
    "4. It can be reduced by using namespace prefixes (Turtle syntax)\n",
    "  - ```turtle\n",
    "    ex:AHU-1\n",
    "    ```\n",
    "  - ```turtle\n",
    "    rdf:type # It is often written as \"a\", which is an abbreviation of \"is a\".\n",
    "    ``` \n",
    "  - ```turtle\n",
    "    brick:AHU\n",
    "    ```\n",
    "5. In Python RDFLib,\n",
    "  - ```python\n",
    "    EX['AHU-1']\n",
    "    ```\n",
    "  - ```python\n",
    "    RDF['type']\n",
    "    ```\n",
    "  - ```python\n",
    "    BRICK['AHU']\n",
    "    ```\n",
    "6. 3, 4, and 5 are all same. We will check the equivalence in the below example\n",
    "7. Triple is the minimum unit that you can add into a graph. In is represented as just enumeration of S-P-O in a line in Turtle and a tuple in RDFLib. Below examples represent same things.\n",
    "  - Turtle without namesapce prefix\n",
    "    ```turtle\n",
    "    <http://example.com#AHU-1> <http://www.w3.org/1999/02/22-rdf-syntax-ns#type> <https://brickschema.org/schema/1.0.1/Brick#AHU> .\n",
    "    ```\n",
    "  - Turtle with namesapce prefix\n",
    "    ```turtle\n",
    "    ex:AHU-1 rdf:type brick:AHU .\n",
    "    ```\n",
    "  - RDFLib (Python code)\n",
    "    ```python\n",
    "    (EX['AHU-1'], RDF['type'], BRICK['AHU'])\n",
    "    ```\n",
    "8. We will use RDFLib for composition in Python and serialize them in Turtle."
   ]
  },
  {
   "cell_type": "code",
   "execution_count": 4,
   "metadata": {
    "collapsed": false
   },
   "outputs": [
    {
     "name": "stdout",
     "output_type": "stream",
     "text": [
      "# is for comments.\n",
      "### The triple in Python\n",
      "(rdflib.term.URIRef('http://example.com#AHU-1'), rdflib.term.URIRef('http://www.w3.org/1999/02/22-rdf-syntax-ns#type'), rdflib.term.URIRef('https://brickschema.org/schema/1.0.1/Brick#AHU'))\n",
      "\n",
      "\n",
      "### The triple in Turtle\n"
     ]
    },
    {
     "data": {
      "text/markdown": [
       "```turtle\n",
       "@prefix bf: <https://brickschema.org/schema/1.0.1/BrickFrame#> .\n",
       "@prefix brick: <https://brickschema.org/schema/1.0.1/Brick#> .\n",
       "@prefix ex: <http://example.com#> .\n",
       "@prefix rdf: <http://www.w3.org/1999/02/22-rdf-syntax-ns#> .\n",
       "@prefix rdfs: <http://www.w3.org/2000/01/rdf-schema#> .\n",
       "@prefix xml: <http://www.w3.org/XML/1998/namespace> .\n",
       "@prefix xsd: <http://www.w3.org/2001/XMLSchema#> .\n",
       "\n",
       "ex:AHU-1 a brick:AHU .\n",
       "\n",
       "\n",
       "```"
      ],
      "text/plain": [
       "<IPython.core.display.Markdown object>"
      ]
     },
     "metadata": {},
     "output_type": "display_data"
    },
    {
     "name": "stdout",
     "output_type": "stream",
     "text": [
      "### End\n",
      "### \"a\" is a common abbreviation of \"rdf:type\"\n"
     ]
    }
   ],
   "source": [
    "# Add the triple using RDFLib's syntactic sugar.\n",
    "\n",
    "first_triple1 = (EX['AHU-1'], RDF.type, BRICK['AHU']) # AHU-1 is an instance of a TagSet, BLD-A\n",
    "print('# is for comments.')\n",
    "print('### The triple in Python')\n",
    "print(first_triple1)\n",
    "print('\\n')\n",
    "print('### The triple in Turtle')\n",
    "g.add(first_triple1)\n",
    "print_graph(g)\n",
    "print('### End')\n",
    "print('### \"a\" is a common abbreviation of \"rdf:type\"')"
   ]
  },
  {
   "cell_type": "code",
   "execution_count": 5,
   "metadata": {
    "collapsed": false
   },
   "outputs": [
    {
     "data": {
      "text/markdown": [
       "```turtle\n",
       "@prefix bf: <https://brickschema.org/schema/1.0.1/BrickFrame#> .\n",
       "@prefix brick: <https://brickschema.org/schema/1.0.1/Brick#> .\n",
       "@prefix ex: <http://example.com#> .\n",
       "@prefix rdf: <http://www.w3.org/1999/02/22-rdf-syntax-ns#> .\n",
       "@prefix rdfs: <http://www.w3.org/2000/01/rdf-schema#> .\n",
       "@prefix xml: <http://www.w3.org/XML/1998/namespace> .\n",
       "@prefix xsd: <http://www.w3.org/2001/XMLSchema#> .\n",
       "\n",
       "ex:AHU-1 a brick:AHU .\n",
       "\n",
       "\n",
       "```"
      ],
      "text/plain": [
       "<IPython.core.display.Markdown object>"
      ]
     },
     "metadata": {},
     "output_type": "display_data"
    }
   ],
   "source": [
    "# Add the triple using RDFLib with bare URIs.\n",
    "# first_triple1 is same as first_triple2 but in different style.\n",
    "\n",
    "first_triple2 = (URIRef('http://example.com#AHU-1'), URIRef('http://www.w3.org/1999/02/22-rdf-syntax-ns#type'), URIRef('https://brickschema.org/schema/1.0.1/Brick#AHU'))\n",
    "print_graph(g)"
   ]
  },
  {
   "cell_type": "markdown",
   "metadata": {},
   "source": [
    "### 2.2.  Add location information for AHU-1\n",
    "1. Let's add other information, AHU-1's location. Say AHU-1 is located in Room-B100, which is in the basement.\n",
    "  - Say the basement's URI is [ex:Room-B100](http://example.com#Room-B100).\n",
    "  - Define the basement is an instance of [brick:Basement](https://brickschema.org/schema/1.0.1/Brick#Basement).\n",
    "  - AHU-1 is located in BLD-A. [bf:isLocatedIn](https://brickschema.org/schema/1.0.1/BrickFrame#isLocatedIn)."
   ]
  },
  {
   "cell_type": "code",
   "execution_count": 6,
   "metadata": {
    "collapsed": false
   },
   "outputs": [
    {
     "data": {
      "text/markdown": [
       "```turtle\n",
       "@prefix bf: <https://brickschema.org/schema/1.0.1/BrickFrame#> .\n",
       "@prefix brick: <https://brickschema.org/schema/1.0.1/Brick#> .\n",
       "@prefix ex: <http://example.com#> .\n",
       "@prefix rdf: <http://www.w3.org/1999/02/22-rdf-syntax-ns#> .\n",
       "@prefix rdfs: <http://www.w3.org/2000/01/rdf-schema#> .\n",
       "@prefix xml: <http://www.w3.org/XML/1998/namespace> .\n",
       "@prefix xsd: <http://www.w3.org/2001/XMLSchema#> .\n",
       "\n",
       "ex:AHU-1 a brick:AHU ;\n",
       "    bf:isLocatedIn ex:Room-B100 .\n",
       "\n",
       "ex:Room-B100 a brick:Basement .\n",
       "\n",
       "\n",
       "```"
      ],
      "text/plain": [
       "<IPython.core.display.Markdown object>"
      ]
     },
     "metadata": {},
     "output_type": "display_data"
    }
   ],
   "source": [
    "# Use RDFLib syntax hereafter\n",
    "\n",
    "# Rm-B100 is an instance of Basement.\n",
    "g.add((EX['Room-B100'], RDF['type'], BRICK['Basement'])) \n",
    "\n",
    "# AHU-1 is located in Room-B100.\n",
    "g.add((EX['AHU-1'], BF['isLocatedIn'], EX['Room-B100']))\n",
    "\n",
    "print_graph(g)"
   ]
  },
  {
   "cell_type": "markdown",
   "metadata": {},
   "source": [
    "## Excercise 1. Add other information for AHU-1\n",
    "1. We stated that \"AHU-1\" is an instance of Brick's AHU TagSet. What kind of information do you want to put more? Let's add those:  \n",
    "  - Define VAV-100 is an instance of VAV (https://brickschema.org/schema/1.0.1/Brick#VAV)\n",
    "  - Define AHU-1 feeds air to VAV-100 (https://brickschema.org/schema/1.0.1/BrickFrame#feeds)"
   ]
  },
  {
   "cell_type": "code",
   "execution_count": 7,
   "metadata": {
    "collapsed": false,
    "scrolled": true
   },
   "outputs": [
    {
     "data": {
      "text/markdown": [
       "```turtle\n",
       "@prefix bf: <https://brickschema.org/schema/1.0.1/BrickFrame#> .\n",
       "@prefix brick: <https://brickschema.org/schema/1.0.1/Brick#> .\n",
       "@prefix ex: <http://example.com#> .\n",
       "@prefix rdf: <http://www.w3.org/1999/02/22-rdf-syntax-ns#> .\n",
       "@prefix rdfs: <http://www.w3.org/2000/01/rdf-schema#> .\n",
       "@prefix xml: <http://www.w3.org/XML/1998/namespace> .\n",
       "@prefix xsd: <http://www.w3.org/2001/XMLSchema#> .\n",
       "\n",
       "ex:AHU-1 a brick:AHU ;\n",
       "    bf:isLocatedIn ex:Room-B100 .\n",
       "\n",
       "ex:Room-B100 a brick:Basement .\n",
       "\n",
       "\n",
       "```"
      ],
      "text/plain": [
       "<IPython.core.display.Markdown object>"
      ]
     },
     "metadata": {},
     "output_type": "display_data"
    }
   ],
   "source": [
    "# VAV-100 is an instance of VAV\n",
    "# TODO: Fill this\n",
    "\n",
    "# AHU-1 feeds VAV-100\n",
    "# TODO: Fill this\n",
    "\n",
    "print_graph(g)"
   ]
  },
  {
   "cell_type": "markdown",
   "metadata": {},
   "source": [
    "### Expected Output:\n",
    "```turtle\n",
    "@prefix bf: <https://brickschema.org/schema/1.0.1/BrickFrame#> .\n",
    "@prefix brick: <https://brickschema.org/schema/1.0.1/Brick#> .\n",
    "@prefix ex: <http://example.com#> .\n",
    "@prefix rdf: <http://www.w3.org/1999/02/22-rdf-syntax-ns#> .\n",
    "@prefix rdfs: <http://www.w3.org/2000/01/rdf-schema#> .\n",
    "@prefix xml: <http://www.w3.org/XML/1998/namespace> .\n",
    "@prefix xsd: <http://www.w3.org/2001/XMLSchema#> .\n",
    "\n",
    "ex:AHU-1 a brick:AHU ;\n",
    "    bf:feeds ex:VAV-100 ;\n",
    "    bf:isLocatedIn ex:Room-B100 .\n",
    "\n",
    "ex:Room-B100 a brick:Basement .\n",
    "\n",
    "ex:VAV-100 a brick:VAV .\n",
    "```"
   ]
  },
  {
   "cell_type": "markdown",
   "metadata": {},
   "source": [
    "## Excercise 2. Add a Zone associated with VAV-100\n",
    "1. Let's define Zone that VAV-100 is feeding.\n",
    "  - Define Zone-100 is an instance of HVAC_Zone\n",
    "  - Define VAV-100 feeds Zone-100"
   ]
  },
  {
   "cell_type": "code",
   "execution_count": 8,
   "metadata": {
    "collapsed": false
   },
   "outputs": [
    {
     "data": {
      "text/markdown": [
       "```turtle\n",
       "@prefix bf: <https://brickschema.org/schema/1.0.1/BrickFrame#> .\n",
       "@prefix brick: <https://brickschema.org/schema/1.0.1/Brick#> .\n",
       "@prefix ex: <http://example.com#> .\n",
       "@prefix rdf: <http://www.w3.org/1999/02/22-rdf-syntax-ns#> .\n",
       "@prefix rdfs: <http://www.w3.org/2000/01/rdf-schema#> .\n",
       "@prefix xml: <http://www.w3.org/XML/1998/namespace> .\n",
       "@prefix xsd: <http://www.w3.org/2001/XMLSchema#> .\n",
       "\n",
       "ex:AHU-1 a brick:AHU ;\n",
       "    bf:isLocatedIn ex:Room-B100 .\n",
       "\n",
       "ex:Room-B100 a brick:Basement .\n",
       "\n",
       "\n",
       "```"
      ],
      "text/plain": [
       "<IPython.core.display.Markdown object>"
      ]
     },
     "metadata": {},
     "output_type": "display_data"
    }
   ],
   "source": [
    "# Zone-100 is an instance of HVAC_Zone\n",
    "# TODO: Fill this\n",
    "\n",
    "# VAV-100 feeds Zone-100\n",
    "# TODO: Fill this\n",
    "\n",
    "print_graph(g)"
   ]
  },
  {
   "cell_type": "markdown",
   "metadata": {},
   "source": [
    "### Expected Output:\n",
    "```turtle\n",
    "@prefix bf: <https://brickschema.org/schema/1.0.1/BrickFrame#> .\n",
    "@prefix brick: <https://brickschema.org/schema/1.0.1/Brick#> .\n",
    "@prefix ex: <http://example.com#> .\n",
    "@prefix rdf: <http://www.w3.org/1999/02/22-rdf-syntax-ns#> .\n",
    "@prefix rdfs: <http://www.w3.org/2000/01/rdf-schema#> .\n",
    "@prefix xml: <http://www.w3.org/XML/1998/namespace> .\n",
    "@prefix xsd: <http://www.w3.org/2001/XMLSchema#> .\n",
    "\n",
    "ex:AHU-1 a brick:AHU ;\n",
    "    bf:feeds ex:VAV-100 ;\n",
    "    bf:isLocatedIn ex:Room-B100 .\n",
    "\n",
    "ex:Room-B100 a brick:Basement .\n",
    "\n",
    "ex:VAV-100 a brick:VAV ;\n",
    "    bf:feeds ex:Zone-100 .\n",
    "\n",
    "ex:Zone-100 a brick:HVAC_Zone .\n",
    "```"
   ]
  },
  {
   "cell_type": "markdown",
   "metadata": {},
   "source": [
    "## 3. Save/Load the graph in/from Turtle \n",
    "1. We can save and load the graph. We stick to Turtle format among multiple possible serialization formats.\n",
    "2. When you load, you can load multiple graph files into a graph."
   ]
  },
  {
   "cell_type": "code",
   "execution_count": 9,
   "metadata": {
    "collapsed": false
   },
   "outputs": [
    {
     "data": {
      "text/plain": [
       "<Graph identifier=N94480a77318a476f87ed7b17b12e8976 (<class 'rdflib.graph.Graph'>)>"
      ]
     },
     "execution_count": 9,
     "metadata": {},
     "output_type": "execute_result"
    }
   ],
   "source": [
    "# Save the graph\n",
    "g.serialize(destination='sample_building.ttl', format='turtle') # You can open the file in jupyter GUI.\n",
    "\n",
    "# Load the graph\n",
    "g = Graph() # Initialize a new graph.\n",
    "g.parse('sample_building.ttl', format='turtle') # Load the stored graph.\n",
    "g.parse('Brick/dist/Brick.ttl', format='turtle') # Load Brick schema."
   ]
  },
  {
   "cell_type": "markdown",
   "metadata": {},
   "source": [
    "### 5. SPARQL Basic\n",
    "1. [SPARQL](https://www.w3.org/TR/sparql11-query/) is a standard query langauge over RDF.\n",
    "2. You can define variables and a query pattern, then the SPARQL querying engine returns instances matching the pattern.\n",
    "3. Define variables followed by a question mark (?) after \"select\". Define a desired pattern inside \"where\". \n",
    "  - Find ?s where any ?p and any ?o are associated with ?s as predicate and object individually. This \n",
    "      ```SPARQL\n",
    "      select ?s where {\n",
    "      ?s ?p ?o .\n",
    "      }\n",
    "      ```\n",
    "    This returns all subjects in the entire graph.\n",
    "  - Find ?s where ?s is a type of Zone_Temperature_Sensor.\n",
    "      ```SPARQL\n",
    "      PREFIX brick: <https://brickschema.org/schema/1.0.1/Brick#>\n",
    "      PREFIX rdf: <http://www.w3.org/1999/02/22-rdf-syntax-ns#>\n",
    "      PREFIX rdfs: <http://www.w3.org/2000/01/rdf-schema#>\n",
    "      PREFIX rdf: <http://www.w3.org/1999/02/22-rdf-syntax-ns#>\n",
    "      select ?s where {\n",
    "        ?s rdf:type brick:Zone_Temperature_Sensor .\n",
    "      }\n",
    "      ```\n",
    "  - Find ?s where ?s is a type of any subclasses of Sensor.\n",
    "      ```SPARQL\n",
    "      PREFIX brick: <https://brickschema.org/schema/1.0.1/Brick#>\n",
    "      PREFIX rdf: <http://www.w3.org/1999/02/22-rdf-syntax-ns#>\n",
    "      PREFIX rdfs: <http://www.w3.org/2000/01/rdf-schema#>\n",
    "      PREFIX rdf: <http://www.w3.org/1999/02/22-rdf-syntax-ns#>\n",
    "      select ?s where {\n",
    "        ?sensortype rdfs:subClassOf+ brick:Sensor .\n",
    "        ?s rdf:type ?sensortype .\n",
    "      }\n",
    "      ```\n",
    "   - Find ?s where ?s is a type of any subclasses of Sensor and also ?s is located in Room-101.\n",
    "       ```SPARQL\n",
    "       PREFIX brick: <https://brickschema.org/schema/1.0.1/Brick#>\n",
    "       PREFIX bf: <https://brickschema.org/schema/1.0.1/BrickFrame#>\n",
    "       PREFIX rdf: <http://www.w3.org/1999/02/22-rdf-syntax-ns#>\n",
    "       PREFIX rdfs: <http://www.w3.org/2000/01/rdf-schema#>\n",
    "       PREFIX rdf: <http://www.w3.org/1999/02/22-rdf-syntax-ns#>\n",
    "       PREFIX ex: <http://example.com#>\n",
    "       select ?s where {\n",
    "         ?sensortype rdfs:subClassOf+ brick:Sensor .\n",
    "         ?s rdf:type ?sensortype .\n",
    "         ?s bf:isLocatedIn ex:Room-101 .\n",
    "       }\n",
    "       ```"
   ]
  }
 ],
 "metadata": {
  "kernelspec": {
   "display_name": "Python 3",
   "language": "python",
   "name": "python3"
  },
  "language_info": {
   "codemirror_mode": {
    "name": "ipython",
    "version": 3
   },
   "file_extension": ".py",
   "mimetype": "text/x-python",
   "name": "python",
   "nbconvert_exporter": "python",
   "pygments_lexer": "ipython3",
   "version": "3.6.0"
  }
 },
 "nbformat": 4,
 "nbformat_minor": 2
}
