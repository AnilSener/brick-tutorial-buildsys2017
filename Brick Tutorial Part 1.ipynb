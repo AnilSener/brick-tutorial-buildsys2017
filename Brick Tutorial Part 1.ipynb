{
 "cells": [
  {
   "cell_type": "code",
   "execution_count": 1,
   "metadata": {
    "collapsed": false
   },
   "outputs": [],
   "source": [
    "# Install necessary Python pakcages\n",
    "# rdflib: RDF composition and \n",
    "\n",
    "try:\n",
    "    import rdflib\n",
    "except ImportError as e:\n",
    "    import pip\n",
    "    pip.main(['install', 'rdflib'])\n",
    "    import rdflib\n",
    "from rdflib import RDFS, RDF, Namespace, Graph, URIRef"
   ]
  },
  {
   "cell_type": "markdown",
   "metadata": {},
   "source": [
    "### 1. Initialize Graph and load Brick\n",
    "- Initialize a graph in rdflib. A graph in RDF is like a whiteboard where you will put your triples."
   ]
  },
  {
   "cell_type": "code",
   "execution_count": 20,
   "metadata": {
    "collapsed": true
   },
   "outputs": [],
   "source": [
    "g = Graph()"
   ]
  },
  {
   "cell_type": "markdown",
   "metadata": {},
   "source": [
    "### 2. Define Namespaces\n",
    "\n",
    "1. A URI represents an entity and a URI consists of a namespace and an identifier. All URIs should be unique and namespaces are prefixes that help avoiding reusing the same identifiers in other domains.\n",
    "  - Namespace: \"http://example.com#\", Identifier: \"AHU-1\", -> URI: \"http://example.com#AHU-1\"\n",
    "  - E.g., If you want to use AHU-1 for Building-A and Building-B, you may want to use different namespaces for different buildings while using AHU-1 consistently.\n",
    "2. We use following namespaces:\n",
    "  - RDFS and RDF are namespaces defined for general purpose in Semantic Web.\n",
    "  - BRICK is Brick's namespace for TagSets. \n",
    "  - EX is our building's namespace. We will intantiate our entities under this namespace."
   ]
  },
  {
   "cell_type": "code",
   "execution_count": 21,
   "metadata": {
    "collapsed": false
   },
   "outputs": [],
   "source": [
    "RDFS # predefined as 'http://www.w3.org/2000/01/rdf-schema#'\n",
    "RDF # predefined as 'http://www.w3.org/1999/02/22-rdf-syntax-ns#'\n",
    "BRICK = Namespace('https://brickschema.org/schema/1.0.1/Brick#')\n",
    "EX = Namespace('http://example.com#')\n",
    "g.bind('ex', EX)\n",
    "g.bind('brick', BRICK)\n",
    "g.bind('rdfs', RDFS)\n",
    "g.bind('rdf', RDF)"
   ]
  },
  {
   "cell_type": "markdown",
   "metadata": {},
   "source": [
    "### 3. Make your first triple\n",
    "1. Each triple consists of Subject-Predicate-Object. Each of S-P-O is a URI.\n",
    "2. Let's make \"AHU-1 is an instance of AHU TagSet\". AHU-1 is the name of our instance in EX. AHU in Brick is a TagSet. AHU-1 and AHU is associated with instantiation relationship. \n",
    "3. In RDF (Turtle syntax), their full URIs are:\n",
    "  - `<http://example.com#AHU-1>`\n",
    "  - `<http://www.w3.org/1999/02/22-rdf-syntax-ns#type>`\n",
    "  - `<https://brickschema.org/schema/1.0.1/Brick#AHU>`\n",
    "4. It can be reduced by using namespace prefixes (Turtle syntax)\n",
    "  - `ex:AHU-1`\n",
    "  - `rdf:type`\n",
    "  - `brick:AHU`\n",
    "5. In Python rdflib,\n",
    "  - `EX['AHU-1']`\n",
    "  - `RDF['type']`\n",
    "  - `BRICK['AHU']`\n",
    "6. 3, 4, and 5 are all same. We will check the equivalence in the below example\n",
    "7. Triple is the minimum unit that you can add into a graph. In is represented as just enumeration of S-P-O in a line in Turtle and a tuple in RDFLib. Below examples represent same things.\n",
    "  - (Turtle without namesapce prefix) `<http://example.com#AHU-1>` `<http://www.w3.org/1999/02/22-rdf-syntax-ns#type>` `<https://brickschema.org/schema/1.0.1/Brick#AHU>` .\n",
    "  - (Turtle with namesapce prefix) `ex:AHU-1 rdf:type brick:AHU .`\n",
    "  - (RDFLib) `(EX['AHU-1'], RDF['type'], BRICK['AHU'])`"
   ]
  },
  {
   "cell_type": "code",
   "execution_count": 34,
   "metadata": {
    "collapsed": false
   },
   "outputs": [
    {
     "name": "stdout",
     "output_type": "stream",
     "text": [
      "### The triple in Python\n",
      "(rdflib.term.URIRef('http://example.com#AHU-1'), rdflib.term.URIRef('http://www.w3.org/1999/02/22-rdf-syntax-ns#type'), rdflib.term.URIRef('https://brickschema.org/schema/1.0.1/Brick#AHU'))\n",
      "\n",
      "\n",
      "### The triple in Turtle\n",
      "@prefix brick: <https://brickschema.org/schema/1.0.1/Brick#> .\n",
      "@prefix ex: <http://example.com#> .\n",
      "@prefix rdf: <http://www.w3.org/1999/02/22-rdf-syntax-ns#> .\n",
      "@prefix rdfs: <http://www.w3.org/2000/01/rdf-schema#> .\n",
      "@prefix xml: <http://www.w3.org/XML/1998/namespace> .\n",
      "@prefix xsd: <http://www.w3.org/2001/XMLSchema#> .\n",
      "\n",
      "ex:AHU-1 a brick:AHU .\n",
      "\n",
      "\n",
      "### End\n",
      " \"a\" is a common abbreviation of \"rdf:type\"\n"
     ]
    }
   ],
   "source": [
    "# Add the triple using RDFLib's syntactic sugar.\n",
    "\n",
    "first_triple1 = (EX['AHU-1'], RDF.type, BRICK['AHU']) # AHU-1 is an instance of a TagSet, BLD-A\n",
    "print('### The triple in Python')\n",
    "print(first_triple1)\n",
    "print('\\n')\n",
    "print('### The triple in Turtle')\n",
    "g.add(first_triple1)\n",
    "print(g.serialize(format='turtle').decode('utf-8'))\n",
    "print('### End')\n",
    "print('\"a\" is a common abbreviation of \"rdf:type\"')"
   ]
  },
  {
   "cell_type": "code",
   "execution_count": 26,
   "metadata": {
    "collapsed": false
   },
   "outputs": [
    {
     "name": "stdout",
     "output_type": "stream",
     "text": [
      "@prefix brick: <https://brickschema.org/schema/1.0.1/Brick#> .\n",
      "@prefix ex: <http://example.com#> .\n",
      "@prefix rdf: <http://www.w3.org/1999/02/22-rdf-syntax-ns#> .\n",
      "@prefix rdfs: <http://www.w3.org/2000/01/rdf-schema#> .\n",
      "@prefix xml: <http://www.w3.org/XML/1998/namespace> .\n",
      "@prefix xsd: <http://www.w3.org/2001/XMLSchema#> .\n",
      "\n",
      "ex:AHU-1 a brick:AHU .\n",
      "\n",
      "\n"
     ]
    }
   ],
   "source": [
    "# Add the triple using RDFLib with bare URIs.\n",
    "\n",
    "first_triple2 = (URIRef('http://example.com#AHU-1'), URIRef('http://www.w3.org/1999/02/22-rdf-syntax-ns#type'), URIRef('https://brickschema.org/schema/1.0.1/Brick#AHU'))\n",
    "g.add(first_triple2)\n",
    "print(g.serialize(format='turtle').decode('utf-8'))"
   ]
  },
  {
   "cell_type": "markdown",
   "metadata": {},
   "source": [
    "### Add other information for AHU-1\n",
    "1. We've said that \"AHU-1\" is an instance of Brick's AHU TagSet. What kind of information do you want to put more? Let's add those:\n",
    "  - AHU-1 is located in BLD-A.\n",
    "  - AHU-1 feeds air to VAV-100"
   ]
  },
  {
   "cell_type": "code",
   "execution_count": null,
   "metadata": {
    "collapsed": true
   },
   "outputs": [],
   "source": []
  }
 ],
 "metadata": {
  "kernelspec": {
   "display_name": "Python 3",
   "language": "python",
   "name": "python3"
  },
  "language_info": {
   "codemirror_mode": {
    "name": "ipython",
    "version": 3
   },
   "file_extension": ".py",
   "mimetype": "text/x-python",
   "name": "python",
   "nbconvert_exporter": "python",
   "pygments_lexer": "ipython3",
   "version": "3.6.0"
  }
 },
 "nbformat": 4,
 "nbformat_minor": 2
}
