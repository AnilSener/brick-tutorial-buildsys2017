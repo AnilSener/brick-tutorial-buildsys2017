{
 "cells": [
  {
   "cell_type": "code",
   "execution_count": null,
   "metadata": {
    "collapsed": true
   },
   "outputs": [],
   "source": [
    "# Install necessary Python pakcages\n",
    "# rdflib: RDF composition and querying with SPARQL in Python.\n",
    "from rdflib import RDFS, RDF, Namespace, Graph, URIRef\n",
    "\n",
    "# Other imports\n",
    "from common import *"
   ]
  },
  {
   "cell_type": "markdown",
   "metadata": {},
   "source": [
    "## 1. Initialize a graph and define namespaces\n",
    "1. Initialize a graph in rdflib. A graph in RDF is like a whiteboard where you will put your triples.\n",
    "2. A URI represents an entity and a URI consists of a namespace and an identifier. All URIs should be unique and namespaces are prefixes that help avoiding reusing the same identifiers in other domains.\n",
    "  - Namespace: \"http://example.com#\", Identifier: \"AHU-1\", -> URI: \"http://example.com#AHU-1\"\n",
    "  - E.g., If you want to use AHU-1 for Building-A and Building-B, you may want to use different namespaces for different buildings while using AHU-1 consistently.\n",
    "3. We use following namespaces:\n",
    "  - RDFS and RDF are namespaces defined for general purpose in Semantic Web.\n",
    "  - BRICK is Brick's namespace for TagSets. \n",
    "  - EX is our building's namespace. We will intantiate our entities under this namespace."
   ]
  },
  {
   "cell_type": "code",
   "execution_count": null,
   "metadata": {
    "collapsed": true
   },
   "outputs": [],
   "source": [
    "g = Graph() # Initialize a graph\n",
    "RDFS # predefined namespace as 'http://www.w3.org/2000/01/rdf-schema#'\n",
    "RDF # predefined namespace as 'http://www.w3.org/1999/02/22-rdf-syntax-ns#'\n",
    "BRICK = Namespace('https://brickschema.org/schema/1.0.1/Brick#')\n",
    "BF = Namespace('https://brickschema.org/schema/1.0.1/BrickFrame#')\n",
    "EX = Namespace('http://example.com#')\n",
    "g.bind('ex', EX)\n",
    "g.bind('brick', BRICK)\n",
    "g.bind('bf', BF)\n",
    "g.bind('rdfs', RDFS)\n",
    "g.bind('rdf', RDF)"
   ]
  },
  {
   "cell_type": "markdown",
   "metadata": {},
   "source": [
    "## 2. Adding triples\n",
    "### 2.1. Your fisrt triple.\n",
    "Each triple consists of Subject-Predicate-Object. Each of S-P-O is a URI. Let's make \"*AHU-1 is an instance of AHU TagSet*\". AHU-1 is the name of our instance in EX. AHU in Brick is a TagSet. AHU-1 and AHU is associated with instantiation relationship. \n",
    "\n",
    "- In RDF (Turtle syntax), their full URIs are:\n",
    "```turtle\n",
    "<http://example.com#AHU-1>\n",
    "<http://www.w3.org/1999/02/22-rdf-syntax-ns#type>\n",
    "<https://brickschema.org/schema/1.0.1/Brick#AHU>\n",
    "```\n",
    "- It can be reduced by using namespace prefixes (Turtle syntax)\n",
    "```turtle\n",
    "ex:AHU-1\n",
    "rdf:type # It is often written as \"a\", which is an abbreviation of \"is a\".\n",
    "brick:AHU\n",
    "```\n",
    "- Python RDFLib\n",
    "```python\n",
    "EX['AHU-1']\n",
    "RDF['type']\n",
    "BRICK['AHU']\n",
    "```\n",
    "\n",
    "Triple is the minimum unit that you can add into a graph. In is represented as just enumeration of S-P-O in a line in Turtle and a tuple in RDFLib. Below examples represent same things.\n",
    "\n",
    "- Turtle with full namespaces\n",
    "```turtle\n",
    "<http://example.com#AHU-1> <http://www.w3.org/1999/02/22-rdf-syntax-ns#type> <https://brickschema.org/schema/1.0.1/Brick#AHU> .\n",
    "```\n",
    "- Turtle with namesapce abbreviations\n",
    "```turtle\n",
    "ex:AHU-1 rdf:type brick:AHU .\n",
    "```\n",
    "- RDFLib (Python code)\n",
    "```python\n",
    "(EX['AHU-1'], RDF['type'], BRICK['AHU'])\n",
    "```\n",
    "\n",
    "We will use RDFLib for composition in Python and serialize them in Turtle."
   ]
  },
  {
   "cell_type": "code",
   "execution_count": null,
   "metadata": {},
   "outputs": [],
   "source": [
    "# Add the triple using RDFLib's syntactic sugar.\n",
    "\n",
    "first_triple1 = (EX['AHU-1'], RDF.type, BRICK['AHU']) # AHU-1 is an instance of a TagSet, BLD-A\n",
    "print('The triple in Python:')\n",
    "print(first_triple1)\n",
    "print('\\nThe triple in Turtle:')\n",
    "g.add(first_triple1)\n",
    "print_graph(g)\n",
    "# \"a\" is a common abbreviation of \"rdf:type\"'"
   ]
  },
  {
   "cell_type": "code",
   "execution_count": null,
   "metadata": {},
   "outputs": [],
   "source": [
    "# Add the triple using RDFLib with bare URIs.\n",
    "# first_triple1 is same as first_triple2 but in different style.\n",
    "\n",
    "first_triple2 = (URIRef('http://example.com#AHU-1'), URIRef('http://www.w3.org/1999/02/22-rdf-syntax-ns#type'), URIRef('https://brickschema.org/schema/1.0.1/Brick#AHU'))\n",
    "g.add(first_triple2)\n",
    "print_graph(g)"
   ]
  },
  {
   "cell_type": "markdown",
   "metadata": {},
   "source": [
    "<img src=\"files/composition/ahu.png\">"
   ]
  },
  {
   "cell_type": "markdown",
   "metadata": {},
   "source": [
    "### 2.2.  Add location information for AHU-1\n",
    "1. Let's add other information, AHU-1's location. Say AHU-1 is located in Room-B100, which is in the basement.\n",
    "  - Say the basement's URI is [ex:Room-B100](http://example.com#Room-B2150).\n",
    "  - Define the basement is an instance of [brick:Basement](https://brickschema.org/schema/1.0.1/Brick#Basement).\n",
    "  - AHU-1 is located in BLD-A. [bf:isLocatedIn](https://brickschema.org/schema/1.0.1/BrickFrame#isLocatedIn)."
   ]
  },
  {
   "cell_type": "code",
   "execution_count": null,
   "metadata": {},
   "outputs": [],
   "source": [
    "# Use RDFLib syntax hereafter\n",
    "\n",
    "# Rm-B100 is an instance of Basement.\n",
    "g.add((EX['Room-B100'], RDF['type'], BRICK['Basement'])) \n",
    "\n",
    "# AHU-1 is located in Room-B100.\n",
    "g.add((EX['AHU-1'], BF['isLocatedIn'], EX['Room-B100']))\n",
    "\n",
    "print_graph(g)"
   ]
  },
  {
   "cell_type": "markdown",
   "metadata": {},
   "source": [
    "<img src=\"files/composition/ahu_room.png\">"
   ]
  },
  {
   "cell_type": "markdown",
   "metadata": {},
   "source": [
    "### Excercise 2.1. Add other information for AHU-1\n",
    "1. We stated that \"AHU-1\" is an instance of Brick's AHU TagSet. What kind of information do you want to put more? Let's add those:  \n",
    "  - Define VAV-2150 is an instance of VAV (https://brickschema.org/schema/1.0.1/Brick#VAV)\n",
    "  - Define AHU-1 feeds air to VAV-2150 (https://brickschema.org/schema/1.0.1/BrickFrame#feeds)"
   ]
  },
  {
   "cell_type": "code",
   "execution_count": null,
   "metadata": {
    "scrolled": true
   },
   "outputs": [],
   "source": [
    "# VAV-2150 is an instance of VAV\n",
    "g.add((EX['VAV-2150'], RDF['type'], BRICK['VAV']))\n",
    "\n",
    "# AHU-1 feeds VAV-2150\n",
    "g.add((EX['AHU-1'], BF['feeds'], BRICK['VAV-2150']))\n",
    "\n",
    "print_graph(g)"
   ]
  },
  {
   "cell_type": "markdown",
   "metadata": {},
   "source": [
    "### Expected Output:\n",
    "```turtle\n",
    "@prefix bf: <https://brickschema.org/schema/1.0.1/BrickFrame#> .\n",
    "@prefix brick: <https://brickschema.org/schema/1.0.1/Brick#> .\n",
    "@prefix ex: <http://example.com#> .\n",
    "@prefix rdf: <http://www.w3.org/1999/02/22-rdf-syntax-ns#> .\n",
    "@prefix rdfs: <http://www.w3.org/2000/01/rdf-schema#> .\n",
    "@prefix xml: <http://www.w3.org/XML/1998/namespace> .\n",
    "@prefix xsd: <http://www.w3.org/2001/XMLSchema#> .\n",
    "\n",
    "ex:AHU-1 a brick:AHU ;\n",
    "    bf:feeds ex:VAV-2150 ;\n",
    "    bf:isLocatedIn ex:Room-B100 .\n",
    "\n",
    "ex:Room-B100 a brick:Basement .\n",
    "\n",
    "ex:VAV-2150 a brick:VAV .\n",
    "```"
   ]
  },
  {
   "cell_type": "markdown",
   "metadata": {},
   "source": [
    "<img src=\"files/composition/ahu_room_vav.png\">"
   ]
  },
  {
   "cell_type": "markdown",
   "metadata": {},
   "source": [
    "## Excercise 2.2. Add a Zone associated with VAV-2150\n",
    "1. Let's define Zone that VAV-2150 is feeding.\n",
    "  - Define Zone-2150 is an instance of HVAC_Zone\n",
    "  - Define VAV-2150 feeds Zone-2150\n",
    "  - Define AHU-1 feeds VAV-2150"
   ]
  },
  {
   "cell_type": "code",
   "execution_count": null,
   "metadata": {},
   "outputs": [],
   "source": [
    "# Zone-2150 is an instance of HVAC_Zone\n",
    "g.add((EX['Zone-2150'], RDF['type'], BRICK['HVAC_Zone']))\n",
    "\n",
    "# VAV-2150 feeds Zone-2150\n",
    "g.add((EX['VAV-2150'], BF['feeds'], EX['Zone-2150']))\n",
    "\n",
    "print_graph(g)"
   ]
  },
  {
   "cell_type": "markdown",
   "metadata": {},
   "source": [
    "### Expected Output:\n",
    "```turtle\n",
    "@prefix bf: <https://brickschema.org/schema/1.0.1/BrickFrame#> .\n",
    "@prefix brick: <https://brickschema.org/schema/1.0.1/Brick#> .\n",
    "@prefix ex: <http://example.com#> .\n",
    "@prefix rdf: <http://www.w3.org/1999/02/22-rdf-syntax-ns#> .\n",
    "@prefix rdfs: <http://www.w3.org/2000/01/rdf-schema#> .\n",
    "@prefix xml: <http://www.w3.org/XML/1998/namespace> .\n",
    "@prefix xsd: <http://www.w3.org/2001/XMLSchema#> .\n",
    "\n",
    "ex:AHU-1 a brick:AHU ;\n",
    "    bf:feeds brick:VAV-2150 ;\n",
    "    bf:isLocatedIn ex:Room-B100 .\n",
    "\n",
    "ex:VAV-2150 a brick:VAV ;\n",
    "    bf:feeds ex:Zone-2150 .\n",
    "\n",
    "ex:Room-B100 a brick:Basement .\n",
    "\n",
    "ex:Zone-2150 a brick:HVAC_Zone .\n",
    "```"
   ]
  },
  {
   "cell_type": "markdown",
   "metadata": {},
   "source": [
    "<img src=\"files/composition/ahu_room_vav_zone.png\">"
   ]
  },
  {
   "cell_type": "markdown",
   "metadata": {},
   "source": [
    "### Excercise 2.3. Add a Zone_Temperature_Sensor called ZNT-2150 and associate it with others.\n",
    "1. Define ZNT-2150 as an instance of Zone_Temperature_Sensor\n",
    "2. ZNT-2150 is point of VAV-2150 (i.e., ZNT-2150 functions for VAV-2150)\n",
    "3. ZNT-2150 is located in Zone-2150."
   ]
  },
  {
   "cell_type": "code",
   "execution_count": null,
   "metadata": {},
   "outputs": [],
   "source": [
    "# ZNT-2150 is an instance of Zone_Temperature_Sensor\n",
    "g.add((EX['ZNT-2150'], RDF['type'], BRICK['Zone_Temperature_Sensor']))\n",
    "\n",
    "# ZNT-2150 is point of VAV-2150\n",
    "g.add((EX['ZNT-2150'], BF['isPointOf'], EX['VAV-2150']))\n",
    "\n",
    "# ZNT-2150 is located In Zone-2150\n",
    "g.add((EX['ZNT-2150'], BF['isLocatedIn'], EX['Zone-2150']))\n",
    "\n",
    "print_graph(g)"
   ]
  },
  {
   "cell_type": "markdown",
   "metadata": {},
   "source": [
    "### Expected Output:\n",
    "```turtle\n",
    "ex:AHU-1 a brick:AHU ;\n",
    "    bf:feeds brick:VAV-2150 ;\n",
    "    bf:isLocatedIn ex:Room-B100 .\n",
    "\n",
    "ex:ZNT-2150 a brick:Zone_Temperature_Sensor ;\n",
    "    bf:isLocatedIn ex:Zone-2150 ;\n",
    "    bf:isPointOf ex:VAV-2150 .\n",
    "\n",
    "ex:Room-B100 a brick:Basement .\n",
    "\n",
    "ex:VAV-2150 a brick:VAV ;\n",
    "    bf:feeds ex:Zone-2150 .\n",
    "\n",
    "ex:Zone-2150 a brick:HVAC_Zone .\n",
    "```"
   ]
  },
  {
   "cell_type": "markdown",
   "metadata": {},
   "source": [
    "<img src=\"files/composition/ahu_room_vav_zone_znt.png\">"
   ]
  },
  {
   "cell_type": "markdown",
   "metadata": {},
   "source": [
    "## 3. Save/Load the graph in Turtle \n",
    "1. We can save and load the graph. We stick to Turtle format among multiple possible serialization formats.\n",
    "2. When you load, you can load multiple graph files into a graph."
   ]
  },
  {
   "cell_type": "code",
   "execution_count": null,
   "metadata": {},
   "outputs": [],
   "source": [
    "# Save the graph\n",
    "g.serialize(destination='sample_building_sol.ttl', format='turtle') # You can open the file in jupyter GUI.\n",
    "\n",
    "# Load the graph\n",
    "g = Graph() # Initialize a new graph.\n",
    "g.parse('sample_building_sol.ttl', format='turtle') # Load the stored graph.\n",
    "g.parse('Brick/dist/Brick.ttl', format='turtle') # Load Brick schema."
   ]
  },
  {
   "cell_type": "markdown",
   "metadata": {},
   "source": [
    "## 4. SPARQL Basic\n",
    "1. [SPARQL](https://www.w3.org/TR/sparql11-query/) is a standard query langauge over RDF.\n",
    "2. You can define variables and a query pattern, then the SPARQL querying engine returns instances matching the pattern.\n",
    "3. Define variables followed by a question mark (?) after \"select\". Define a desired pattern inside \"where\". \n",
    "  - Find ?s where any ?p and any ?o are associated with ?s as predicate and object individually. \n",
    "      ```SPARQL\n",
    "      select ?s where {\n",
    "      ?s ?p ?o .\n",
    "      }\n",
    "      ```\n",
    "    This returns all subjects in the entire graph.\n",
    "   - Find ?s where ?s is a type of any subclasses of Sensor and also ?s is located in Room-101.\n",
    "       ```SPARQL\n",
    "       PREFIX brick: <https://brickschema.org/schema/1.0.1/Brick#>\n",
    "       PREFIX bf: <https://brickschema.org/schema/1.0.1/BrickFrame#>\n",
    "       PREFIX rdf: <http://www.w3.org/1999/02/22-rdf-syntax-ns#>\n",
    "       PREFIX rdfs: <http://www.w3.org/2000/01/rdf-schema#>\n",
    "       PREFIX rdf: <http://www.w3.org/1999/02/22-rdf-syntax-ns#>\n",
    "       PREFIX ex: <http://example.com#>\n",
    "       select ?s where {\n",
    "         ?sensortype rdfs:subClassOf+ brick:Sensor .\n",
    "         ?s rdf:type ?sensortype .\n",
    "         ?s bf:isLocatedIn ex:Room-101 .\n",
    "       }\n",
    "       ```"
   ]
  },
  {
   "cell_type": "markdown",
   "metadata": {},
   "source": [
    "### 4.1. Iterating SPARQL Results in RDFLib.\n",
    "\n",
    "- A row of results in SPARQL is a tuple of variables in the query.\n",
    "- Let's see the result of the very basic query."
   ]
  },
  {
   "cell_type": "code",
   "execution_count": null,
   "metadata": {},
   "outputs": [],
   "source": [
    "### Querying All S, P and O.\n",
    "\n",
    "g = Graph()\n",
    "g.parse('sample_building_sol.ttl', format='turtle')\n",
    "q = \"\"\"\n",
    "select ?s ?p ?o where {\n",
    "?s ?p ?o .\n",
    "}\n",
    "\"\"\"\n",
    "res = g.query(q)\n",
    "for row in res:\n",
    "    print(row)"
   ]
  },
  {
   "cell_type": "code",
   "execution_count": null,
   "metadata": {},
   "outputs": [],
   "source": [
    "### Querying Only S and P \n",
    "# ?o is inside the where clauses but not in the varible declarations. \n",
    "# ?o will be considered for the pattern but not included in the answer..\n",
    "\n",
    "q = \"\"\"\n",
    "select ?s ?p where {\n",
    "?s ?p ?o .\n",
    "}\n",
    "\"\"\"\n",
    "res = g.query(q)\n",
    "for row in res:\n",
    "    print(row)"
   ]
  },
  {
   "cell_type": "markdown",
   "metadata": {},
   "source": [
    "### 4.2. Subclass and intsance relationships"
   ]
  },
  {
   "cell_type": "code",
   "execution_count": null,
   "metadata": {},
   "outputs": [],
   "source": [
    "# Load the graph with Brick for querying.\n",
    "g = Graph() # Initialize a new graph.\n",
    "g.parse('sample_building_sol.ttl', format='turtle') # Load the stored graph.\n",
    "g.parse('Brick/dist/Brick.ttl', format='turtle') # Load Brick schema. We need it to exploit the hierarchy."
   ]
  },
  {
   "cell_type": "code",
   "execution_count": null,
   "metadata": {},
   "outputs": [],
   "source": [
    "### Find ?s where ?s is an instance of Zone_Temperature_Sensor.\n",
    "\n",
    "q = \"\"\"\n",
    "PREFIX brick: <https://brickschema.org/schema/1.0.1/Brick#>\n",
    "PREFIX rdf: <http://www.w3.org/1999/02/22-rdf-syntax-ns#>\n",
    "PREFIX rdfs: <http://www.w3.org/2000/01/rdf-schema#>\n",
    "PREFIX rdf: <http://www.w3.org/1999/02/22-rdf-syntax-ns#>\n",
    "select ?s where {\n",
    "?s rdf:type brick:Zone_Temperature_Sensor.\n",
    "}\n",
    "\"\"\"\n",
    "\n",
    "res = g.query(q)\n",
    "for row in res:\n",
    "    print(row)"
   ]
  },
  {
   "cell_type": "code",
   "execution_count": null,
   "metadata": {},
   "outputs": [],
   "source": [
    "### Find ?s where ?s is any type of Sensor.\n",
    "\n",
    "q = \"\"\"\n",
    "PREFIX brick: <https://brickschema.org/schema/1.0.1/Brick#>\n",
    "PREFIX rdf: <http://www.w3.org/1999/02/22-rdf-syntax-ns#>\n",
    "PREFIX rdfs: <http://www.w3.org/2000/01/rdf-schema#>\n",
    "PREFIX rdf: <http://www.w3.org/1999/02/22-rdf-syntax-ns#>\n",
    "select ?s where {\n",
    "?s rdf:type ?sensorClass .\n",
    "?sensorClass rdfs:subClassOf+ brick:Sensor .\n",
    "}\n",
    "\"\"\"\n",
    "res = g.query(q)\n",
    "for row in res:\n",
    "    print(row)"
   ]
  },
  {
   "cell_type": "markdown",
   "metadata": {},
   "source": [
    "## Excercise 4.1. Find zones.\n",
    "1. Let's find zones. Use the rdf:type and/or rdfs:subClassOf+ "
   ]
  },
  {
   "cell_type": "code",
   "execution_count": null,
   "metadata": {
    "scrolled": false
   },
   "outputs": [],
   "source": [
    "q = \"\"\"\n",
    "PREFIX brick: <https://brickschema.org/schema/1.0.1/Brick#>\n",
    "PREFIX rdf: <http://www.w3.org/1999/02/22-rdf-syntax-ns#>\n",
    "PREFIX rdfs: <http://www.w3.org/2000/01/rdf-schema#>\n",
    "PREFIX bf: <https://brickschema.org/schema/1.0.1/BrickFrame#>\n",
    "\n",
    "select ?z where {\n",
    "?z rdf:type brick:HVAC_Zone .\n",
    "#?z rdf:type/rdfs:subClassOf brick:Zone . # use this if you want to be more agnostic to zone types.\n",
    "}\n",
    "\"\"\"\n",
    "res = g.query(q)\n",
    "for row in res:\n",
    "    print(row)"
   ]
  },
  {
   "cell_type": "markdown",
   "metadata": {},
   "source": [
    "### Expected Output:\n",
    "(rdflib.term.URIRef('http://example.com#Zone-2150'),)\n"
   ]
  },
  {
   "cell_type": "markdown",
   "metadata": {},
   "source": [
    "## Excercise 4.2. Find zones fed+ by AHU-1.\n",
    "1. Extend Excercise 3.1. to relate feeds relationships with the zones found there."
   ]
  },
  {
   "cell_type": "code",
   "execution_count": null,
   "metadata": {
    "collapsed": true
   },
   "outputs": [],
   "source": [
    "# VAV-2150 is an instance of VAV\n",
    "q = \"\"\"\n",
    "PREFIX brick: <https://brickschema.org/schema/1.0.1/Brick#>\n",
    "PREFIX rdf: <http://www.w3.org/1999/02/22-rdf-syntax-ns#>\n",
    "PREFIX rdfs: <http://www.w3.org/2000/01/rdf-schema#>\n",
    "PREFIX bf: <https://brickschema.org/schema/1.0.1/BrickFrame#>\n",
    "select ?z where {\n",
    "?z rdf:type brick:HVAC_Zone .\n",
    "ex:AHU-1 bf:feeds+ ?z .\n",
    "}\n",
    "\"\"\"\n",
    "res = g.query(q)\n",
    "for row in res:\n",
    "    print(row)"
   ]
  },
  {
   "cell_type": "markdown",
   "metadata": {},
   "source": [
    "### 4.3. Querying tuples.\n",
    "1. SPARQL is capable of finding tuples of variables. The variables after select constitutte a tuple format."
   ]
  },
  {
   "cell_type": "code",
   "execution_count": null,
   "metadata": {},
   "outputs": [],
   "source": [
    "q = \"\"\"\n",
    "PREFIX brick: <https://brickschema.org/schema/1.0.1/Brick#>\n",
    "PREFIX rdf: <http://www.w3.org/1999/02/22-rdf-syntax-ns#>\n",
    "PREFIX rdfs: <http://www.w3.org/2000/01/rdf-schema#>\n",
    "PREFIX bf: <https://brickschema.org/schema/1.0.1/BrickFrame#>\n",
    "select ?s ?r where {\n",
    "  ?s bf:isLocatedIn ?r .\n",
    "  ?s rdf:type brick:Zone_Temperature_Sensor .\n",
    "  ?r rdf:type brick:HVAC_Zone .\n",
    "}\n",
    "\n",
    "\"\"\"\n",
    "res = g.query(q)\n",
    "for row in res:\n",
    "    print(row)"
   ]
  }
 ],
 "metadata": {
  "kernelspec": {
   "display_name": "Python 3",
   "language": "python",
   "name": "python3"
  },
  "language_info": {
   "codemirror_mode": {
    "name": "ipython",
    "version": 3
   },
   "file_extension": ".py",
   "mimetype": "text/x-python",
   "name": "python",
   "nbconvert_exporter": "python",
   "pygments_lexer": "ipython3",
   "version": "3.6.1"
  }
 },
 "nbformat": 4,
 "nbformat_minor": 2
}
