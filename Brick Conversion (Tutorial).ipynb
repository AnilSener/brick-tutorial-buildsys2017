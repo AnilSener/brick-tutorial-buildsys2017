{
 "cells": [
  {
   "cell_type": "code",
   "execution_count": null,
   "metadata": {
    "collapsed": true
   },
   "outputs": [],
   "source": [
    "# Install necessary Python pakcages\n",
    "# rdflib: RDF composition and querying with SPARQL in Python.\n",
    "from rdflib import RDFS, RDF, Namespace, Graph, URIRef, Literal\n",
    "\n",
    "from common import *"
   ]
  },
  {
   "cell_type": "code",
   "execution_count": null,
   "metadata": {
    "collapsed": true
   },
   "outputs": [],
   "source": [
    "import json\n",
    "import pandas as pd\n",
    "import re"
   ]
  },
  {
   "cell_type": "markdown",
   "metadata": {},
   "source": [
    "### Sample raw metadata\n",
    "\n",
    "1. Those data are fairly semi-structured by some conventions.\n",
    "  - Each information is somewhat separated by dots."
   ]
  },
  {
   "cell_type": "code",
   "execution_count": null,
   "metadata": {
    "collapsed": true
   },
   "outputs": [],
   "source": [
    "raw_metadata_dict = {\n",
    "    '51': 'BLDA.RM-2150..ZN-T',\n",
    "    '43': 'BLDA.RM-2150..DMPR-POS',\n",
    "    '1':  'BLDA.AH1.CHWR1-T'\n",
    "}"
   ]
  },
  {
   "cell_type": "markdown",
   "metadata": {},
   "source": [
    "### Regular expressions (RE)\n",
    "1. We will use regular expressions to identify if certain information is included in the metadata.\n",
    "2. Assuming that each information is separated by dots."
   ]
  },
  {
   "cell_type": "code",
   "execution_count": null,
   "metadata": {
    "collapsed": true
   },
   "outputs": [],
   "source": [
    "# key: RE pattern, value: identified TagSet.\n",
    "re_dict = {\n",
    "    'BLDA': 'Building',\n",
    "    'AH': 'AHU',\n",
    "    'CHWR\\\\d-T': 'Chilled_Water_Return_Temperature_Sensor',\n",
    "    'RM-\\\\d+': 'HVAC_Zone',\n",
    "    'DMPR-POS': 'Damper_Position_Sensor',\n",
    "    'ZN-T': 'Zone_Temperature_Sensor'\n",
    "    \n",
    "}"
   ]
  },
  {
   "cell_type": "markdown",
   "metadata": {},
   "source": [
    "### VAV <-> Zone\n",
    "1. VAV information is omitted in the metadata. From the prior knowledge, a VAV corresponds to a Zone."
   ]
  },
  {
   "cell_type": "markdown",
   "metadata": {},
   "source": [
    "### Zone <-> Room information\n",
    "1. It is usually not given in metadata accessible through BMSes.\n",
    "2. You need to make such information from any source you have (asking building managers or extract it from a schematic.)\n",
    "3. Assume that it's given as below."
   ]
  },
  {
   "cell_type": "code",
   "execution_count": null,
   "metadata": {},
   "outputs": [],
   "source": [
    "zone_room_map = {\n",
    "    \"RM-2150\": [\"RM-2151\", \"RM-2152\"]\n",
    "}"
   ]
  },
  {
   "cell_type": "markdown",
   "metadata": {},
   "source": [
    "### AHU <-> VAV information.\n",
    "1. It is also not given by BMSes usually.\n",
    "2. Assume given as below"
   ]
  },
  {
   "cell_type": "code",
   "execution_count": null,
   "metadata": {
    "collapsed": true
   },
   "outputs": [],
   "source": [
    "feeds_map = {\n",
    "    'AH1': 'VAV_RM-2150'\n",
    "}"
   ]
  },
  {
   "cell_type": "markdown",
   "metadata": {},
   "source": [
    "### Init an RDF whiteboard."
   ]
  },
  {
   "cell_type": "code",
   "execution_count": null,
   "metadata": {
    "collapsed": true
   },
   "outputs": [],
   "source": [
    "g = Graph() # Initialize a graph\n",
    "RDFS # predefined namespace as 'http://www.w3.org/2000/01/rdf-schema#'\n",
    "RDF # predefined namespace as 'http://www.w3.org/1999/02/22-rdf-syntax-ns#'\n",
    "BRICK = Namespace('https://brickschema.org/schema/1.0.1/Brick#')\n",
    "BF = Namespace('https://brickschema.org/schema/1.0.1/BrickFrame#')\n",
    "EX = Namespace('http://example.com#')\n",
    "g.bind('ex', EX)\n",
    "g.bind('brick', BRICK)\n",
    "g.bind('bf', BF)\n",
    "g.bind('rdfs', RDFS)\n",
    "g.bind('rdf', RDF)\n",
    "\n"
   ]
  },
  {
   "cell_type": "markdown",
   "metadata": {},
   "source": [
    "### Let's convert into Brick.\n",
    "- We will convert the first metadata first to see each step and then the others in a loop."
   ]
  },
  {
   "cell_type": "code",
   "execution_count": null,
   "metadata": {},
   "outputs": [],
   "source": [
    "# Initialization: Words separation\n",
    "vendor_name = raw_metadata_dict['51']\n",
    "entity_dict = dict() # This will contain all entities found in this vendor_name\n",
    "raw_words = vendor_name.split('.') # This building uses '.' as a delimiter but not always it's comprehensive.\n",
    "print('Raw metadata: {0}\\nSeparated raw words: {1}'.format(vendor_name, raw_words))"
   ]
  },
  {
   "cell_type": "code",
   "execution_count": null,
   "metadata": {},
   "outputs": [],
   "source": [
    "# Find entities in the words\n",
    "entity_dict = dict()\n",
    "for word in raw_words:\n",
    "    for re_rule, tagset in re_dict.items():\n",
    "        if re.findall(re_rule, word):\n",
    "            entity_dict[word] = tagset"
   ]
  },
  {
   "cell_type": "code",
   "execution_count": null,
   "metadata": {},
   "outputs": [],
   "source": [
    "# Define instance relationships\n",
    "for entity, tagset in entity_dict.items():\n",
    "    g.add((EX[entity], RDF['type'], BRICK[tagset]))\n",
    "print_graph(g)"
   ]
  },
  {
   "cell_type": "code",
   "execution_count": null,
   "metadata": {},
   "outputs": [],
   "source": [
    "# Assumtion that Zone is associated with VAV\n",
    "for entity, tagset in entity_dict.items():\n",
    "    if tagset == 'HVAC_Zone':\n",
    "        vav_name = 'VAV_' + entity\n",
    "        g.add((EX[vav_name], RDF['type'], BRICK['VAV']))\n",
    "        g.add((EX[vav_name], BF['feeds'], EX[entity]))\n",
    "print_graph(g)"
   ]
  },
  {
   "cell_type": "code",
   "execution_count": null,
   "metadata": {},
   "outputs": [],
   "source": [
    "# Assumtion that zone and ZNT has location relationship\n",
    "for entity, tagset in entity_dict.items():\n",
    "    if tagset == 'Zone_Temperature_Sensor':\n",
    "        for entity2, tagset2 in entity_dict.items():\n",
    "            if tagset2 == 'HVAC_Zone':\n",
    "                g.add((EX[entity], BF['isLocatedIn'], EX[entity2]))\n",
    "print_graph(g)"
   ]
  },
  {
   "cell_type": "markdown",
   "metadata": {},
   "source": [
    "### Apply the rules to the entire raw metadata\n",
    "\n",
    "Refer the full versoin of Brick Conversion for actual iteration."
   ]
  }
 ],
 "metadata": {
  "kernelspec": {
   "display_name": "Python 3",
   "language": "python",
   "name": "python3"
  },
  "language_info": {
   "codemirror_mode": {
    "name": "ipython",
    "version": 3
   },
   "file_extension": ".py",
   "mimetype": "text/x-python",
   "name": "python",
   "nbconvert_exporter": "python",
   "pygments_lexer": "ipython3",
   "version": "3.6.1"
  }
 },
 "nbformat": 4,
 "nbformat_minor": 2
}
