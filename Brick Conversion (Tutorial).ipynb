{
 "cells": [
  {
   "cell_type": "code",
   "execution_count": null,
   "metadata": {
    "collapsed": true
   },
   "outputs": [],
   "source": [
    "# Install necessary Python pakcages\n",
    "# rdflib: RDF composition and querying with SPARQL in Python.\n",
    "try:\n",
    "    import rdflib\n",
    "except ImportError as e:\n",
    "    import pip\n",
    "    pip.main(['install', 'rdflib'])\n",
    "    import rdflib\n",
    "from rdflib import RDFS, RDF, Namespace, Graph, URIRef, Literal\n",
    "\n",
    "from common import *"
   ]
  },
  {
   "cell_type": "code",
   "execution_count": null,
   "metadata": {
    "collapsed": true
   },
   "outputs": [],
   "source": [
    "import json\n",
    "import pandas as pd\n",
    "import re"
   ]
  },
  {
   "cell_type": "markdown",
   "metadata": {},
   "source": [
    "### Sample raw metadata\n",
    "\n",
    "1. Those data are fairly semi-structured by some conventions.\n",
    "  - Each information is somewhat separated by dots."
   ]
  },
  {
   "cell_type": "code",
   "execution_count": 4,
   "metadata": {
    "collapsed": true
   },
   "outputs": [],
   "source": [
    "raw_metadata_dict = {\n",
    "    '1': 'BLDA.AH1.CHWR1-T',\n",
    "    '43': 'BLDA.RM-2150..DMPR-POS',\n",
    "    '51': 'BLDA.RM-2150..ZN-T'\n",
    "}"
   ]
  },
  {
   "cell_type": "markdown",
   "metadata": {},
   "source": [
    "### Regular expressions (RE)\n",
    "1. We will use regular expressions to identify if certain information is included in the metadata.\n",
    "2. Assuming that each information is separated by dots."
   ]
  },
  {
   "cell_type": "code",
   "execution_count": 10,
   "metadata": {
    "collapsed": true
   },
   "outputs": [],
   "source": [
    "# key: RE pattern, value: identified TagSet.\n",
    "re_dict = {\n",
    "    'BLDA': 'Building',\n",
    "    'AH': 'AHU',\n",
    "    'CHWR\\\\d-T': 'Chilled_Water_Return_Temperature_Sensor',\n",
    "    'RM-\\\\d+': 'Room',\n",
    "    'DMPR-POS': 'Damper_Position_Sensor',\n",
    "    'ZN-T': 'Zone_Temperature_Sensor'\n",
    "    \n",
    "}"
   ]
  },
  {
   "cell_type": "markdown",
   "metadata": {},
   "source": [
    "### VAV <-> Zone\n",
    "1. VAV information is omitted in the metadata. From the prior knowledge, a VAV corresponds to a Zone."
   ]
  },
  {
   "cell_type": "markdown",
   "metadata": {},
   "source": [
    "### Zone <-> Room information\n",
    "1. It is usually not given in metadata accessible through BMSes.\n",
    "2. You need to make such information from any source you have (asking building managers or extract it from a schematic.)\n",
    "3. Assume that it's given as below."
   ]
  },
  {
   "cell_type": "code",
   "execution_count": null,
   "metadata": {
    "collapsed": true
   },
   "outputs": [],
   "source": [
    "1.zone_room_map = {\n",
    "    \"RM-2150\": [\"RM-2151\", \"RM-2152\"]\n",
    "}"
   ]
  },
  {
   "cell_type": "markdown",
   "metadata": {},
   "source": [
    "### AHU <-> VAV information.\n",
    "1. It is also not given by BMSes usually.\n",
    "2. Assume given as below"
   ]
  },
  {
   "cell_type": "code",
   "execution_count": 2,
   "metadata": {
    "collapsed": true
   },
   "outputs": [],
   "source": [
    "feeds_map = {\n",
    "    'AH1': 'VAV_RM-2150'\n",
    "}"
   ]
  },
  {
   "cell_type": "markdown",
   "metadata": {},
   "source": [
    "### Init an RDF whiteboard."
   ]
  },
  {
   "cell_type": "code",
   "execution_count": null,
   "metadata": {
    "collapsed": true
   },
   "outputs": [],
   "source": [
    "g = Graph() # Initialize a graph\n",
    "RDFS # predefined namespace as 'http://www.w3.org/2000/01/rdf-schema#'\n",
    "RDF # predefined namespace as 'http://www.w3.org/1999/02/22-rdf-syntax-ns#'\n",
    "BRICK = Namespace('https://brickschema.org/schema/1.0.1/Brick#')\n",
    "BF = Namespace('https://brickschema.org/schema/1.0.1/BrickFrame#')\n",
    "EX = Namespace('http://example.com#')\n",
    "g.bind('ex', EX)\n",
    "g.bind('brick', BRICK)\n",
    "g.bind('bf', BF)\n",
    "g.bind('rdfs', RDFS)\n",
    "g.bind('rdf', RDF)\n",
    "\n"
   ]
  },
  {
   "cell_type": "markdown",
   "metadata": {},
   "source": [
    "### Let's convert into Brick.\n",
    "- We will convert the first metadata first to see each step and then the others in a loop."
   ]
  },
  {
   "cell_type": "code",
   "execution_count": 9,
   "metadata": {},
   "outputs": [
    {
     "name": "stdout",
     "output_type": "stream",
     "text": [
      "Raw metadata: BLDA.AH1.CHWR1-T\n",
      "Separated raw words: ['BLDA', 'AH1', 'CHWR1-T']\n"
     ]
    }
   ],
   "source": [
    "# Initialization: Words separation\n",
    "vendor_name = raw_metadata_dict['1']\n",
    "entity_dict = dict() # This will contain all entities found in this vendor_name\n",
    "raw_words = vendor_name.split('.') # This building uses '.' as a delimiter but not always it's comprehensive.\n",
    "print('Raw metadata: {0}\\nSeparated raw words: {1}'.format(vendor_name, raw_words))"
   ]
  },
  {
   "cell_type": "code",
   "execution_count": null,
   "metadata": {
    "collapsed": true
   },
   "outputs": [],
   "source": [
    "for row in df.iterrows():\n",
    "    vendor_name = row[1]['Vendor Given Name']\n",
    "    uuid = row[1]['uuid']\n",
    "    ############# Parsing Phase\n",
    "    # Extract all entities in vendor_name\n",
    "    entity_dict = dict()\n",
    "    raw_words = vendor_name.split('.') # This building uses '.' as a delimiter but not always it's comprehensive.\n",
    "    \n",
    "    # split more if needed\n",
    "    words = []\n",
    "    for word in raw_words:\n",
    "        if 'SF' in word or 'RF' in word:\n",
    "            words += word.split('-')\n",
    "        else:\n",
    "            words.append(word)\n",
    "    # Apply RE rules to detect tagsets.\n",
    "    for word in words:\n",
    "        for key, tagset in re_dict.items():\n",
    "            if re.findall(key, word):\n",
    "                if tagset in points:\n",
    "                    entity_dict[vendor_name] = tagset\n",
    "                else:\n",
    "                    entity_dict[word] = tagset # We will use a word as an entity name.\n",
    "    \n",
    "    ############# Add Brick Relationships\n",
    "    # Add instance relationships\n",
    "    for entity, tagset in entity_dict.items():\n",
    "        g.add((EX[entity], RDF['type'], BRICK[tagset]))\n",
    "    \n",
    "    # Add Location <-> Others\n",
    "    ## Find all location entities\n",
    "    loc_entities = list()\n",
    "    for entity, tagset in entity_dict.items():\n",
    "        if tagset in locs:\n",
    "            loc_entities.append(entity)\n",
    "    ## Assign hasLocation relationships to all non-location entities with the location entities.\n",
    "    for entity, tagset in entity_dict.items():\n",
    "        if tagset not in locs:\n",
    "            for loc_entity in loc_entities:\n",
    "                g.add((EX[entity], BF['hasLocation'], EX[loc_entity]))\n",
    "    \n",
    "    # Zone corresponds to a VAV.\n",
    "    vav_entity = None\n",
    "    for entity, tagset in entity_dict.items():\n",
    "        if tagset == 'HVAC_Zone':\n",
    "            vav_entity = 'VAV_' + entity\n",
    "            g.add((EX[vav_entity], RDF['type'], BRICK['VAV']))\n",
    "            g.add((EX[vav_entity], BF['feeds'], EX[entity]))\n",
    "    if vav_entity:\n",
    "        entity_dict[vav_entity] = 'VAV'\n",
    "                \n",
    "    # Add Equip <-> Point\n",
    "    ## Find all equip entities\n",
    "    equip_entities = list()\n",
    "    for entity, tagset in entity_dict.items():\n",
    "        if tagset in equips:\n",
    "            equip_entities.append(entity)\n",
    "    ## Assign isPointOf relationships to all Point entities \n",
    "    for entity, tagset in entity_dict.items():\n",
    "        if tagset in points:\n",
    "            for equip_entity in equip_entities:\n",
    "                g.add((EX[entity], BF['isPointOf'], EX[equip_entity]))\n",
    "    ## Add inclusive relationships among equipments\n",
    "    #if len(equip_entities) > 1:\n",
    "    #    rank_equip_list = [(equip, equip_orders.index(equip))]\n",
    "    #    sorted(equip_entities)\n",
    "    \n",
    "    # Add UUID\n",
    "    for entity, tagset in entity_dict.items():\n",
    "        if tagset in points:\n",
    "            g.add((EX[entity], BRICK['hasUuid'], Literal(str(uuid))))"
   ]
  },
  {
   "cell_type": "code",
   "execution_count": null,
   "metadata": {
    "collapsed": true
   },
   "outputs": [],
   "source": [
    "# Add zone-room inclusive relationships\n",
    "for zone, rooms in zone_room_map.items():\n",
    "    for room in rooms:\n",
    "        g.add((EX[room], RDF['type'], BRICK['Room']))\n",
    "        g.add((EX[room], BF['isPartOf'], EX[zone]))\n",
    "        \n",
    "# The AHU feeds all VAVs\n",
    "## find VAVs.\n",
    "res = g.query(\"select ?vav where {?vav a <https://brickschema.org/schema/1.0.1/Brick#VAV>}\")\n",
    "vavs = [str(row[0]).split('#')[-1] for row in res]\n",
    "## Add feeds relationship\n",
    "for vav in vavs:\n",
    "    g.add((EX['AH1'], BF['feeds'], EX[vav]))"
   ]
  },
  {
   "cell_type": "code",
   "execution_count": null,
   "metadata": {
    "collapsed": true,
    "scrolled": true
   },
   "outputs": [],
   "source": [
    "print_graph(g)"
   ]
  },
  {
   "cell_type": "markdown",
   "metadata": {},
   "source": [
    "### Conversion Rules (for this building)\n",
    "1. A metadata is the name of the data point.\n",
    "2. Implicit Relationships:\n",
    "  - When a location is found, every other entitiy hasLocation the location.\n",
    "  - When equipment is is found, the point isPointOf the equipment.\n",
    "  - When multiple equipment is found, their hierarchy is assumed. In AHU-SF, SF isPartOf AHU. Same for AHU-RF.\n",
    "  - When HVAC Zone is found, there is a corresponding VAV."
   ]
  },
  {
   "cell_type": "code",
   "execution_count": null,
   "metadata": {
    "collapsed": true
   },
   "outputs": [],
   "source": [
    "g.serialize('metadata/sample_building.ttl', format='turtle')"
   ]
  }
 ],
 "metadata": {
  "kernelspec": {
   "display_name": "Python 3",
   "language": "python",
   "name": "python3"
  },
  "language_info": {
   "codemirror_mode": {
    "name": "ipython",
    "version": 3
   },
   "file_extension": ".py",
   "mimetype": "text/x-python",
   "name": "python",
   "nbconvert_exporter": "python",
   "pygments_lexer": "ipython3",
   "version": "3.6.1"
  }
 },
 "nbformat": 4,
 "nbformat_minor": 2
}
