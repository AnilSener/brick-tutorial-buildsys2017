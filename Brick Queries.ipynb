{
 "cells": [
  {
   "cell_type": "code",
   "execution_count": 1,
   "metadata": {
    "collapsed": true
   },
   "outputs": [],
   "source": [
    "import pandas as pd\n",
    "%matplotlib inline"
   ]
  },
  {
   "cell_type": "markdown",
   "metadata": {},
   "source": [
    "# RDF Primer\n",
    "\n",
    "The RDF data model represents a directed, labeled graph as a set of *triples*. A triple consists of a *subject* (node), a *predicate* (directed edge) and an *object* (node). We will interact with the graph by way of these triples\n",
    "\n",
    "<img src=\"files/refresher.png\">\n",
    "\n"
   ]
  },
  {
   "cell_type": "code",
   "execution_count": null,
   "metadata": {
    "collapsed": true
   },
   "outputs": [],
   "source": []
  },
  {
   "cell_type": "markdown",
   "metadata": {},
   "source": [
    "# Analysis with Brick"
   ]
  },
  {
   "cell_type": "markdown",
   "metadata": {},
   "source": [
    "One of the primary benefits of having a machine-readable representation of a building is the ability to build portable analytics. Rather than hard-coding the specific data streams and points from a building into an analytics script, we can discover that structure dynamically by querying the Brick model.\n",
    "\n",
    "The goal of this part of the tutorial is to demonstrate how to write SPARQL queries that pull information from such graphs, and how to use these queries to write portable analytics.\n",
    "\n",
    "To help guide the queries we want to write, we've rendered a simple visualization of how class instances are connected in our sample building Brick model. The below figure tells us:\n",
    "- nodes of type `brick:VAV` have `feeds` relationships with nodes of type `brick:HVAC_Zone`\n",
    "- nodes of type `brick:Room` have `isPartOf` relationships with nodes of type `brick:HVAC_Zone`\n",
    "\n",
    "<img src=\"files/vavhvac.png\">\n",
    "\n",
    "Here is the full graph:\n",
    "\n",
    "<img src=\"files/classgraph.png\">\n",
    "\n",
    "There are only a few types of relationships (edge labels) that Brick captures, but these are sufficient for what we need. Here's a brief recap:\n",
    "\n",
    "- **Subcomponents**: `hasPart`/`isPartOf`. Used for mechanical composition, relating HVAC zones with physical spaces\n",
    "- **Identifying flows**: `feeds`/`isFedBy`. Used for flows of water, electricity, air, etc.\n",
    "- **Sensing + actuation**: `hasPoint`/`isPointOf`. Used for associating sensor, setpoints, statuses, commands, meters, etc with related equipment, locations, etc\n",
    "- **Location**: `hasLocation`/`isLocationOf`. Identifies the physical location of something\n",
    "- **Instantiation**: `type` (implicit in the graph above)\n",
    "\n",
    "The way we write SPARQL queries is by considering the types of \"things\" we care about as well as the nature of the relationships between those things."
   ]
  },
  {
   "cell_type": "markdown",
   "metadata": {},
   "source": [
    "The first thing we do is set up our query environment. For convenience, we're using the SPARQL engine included in the RDFlib Python library. We provide a brief wrapper around that library for queries, which takes care of most of the boilerplate involved in SPARQL queries. The most important part of this boilerplate are the namespace abbreviations.\n",
    "\n",
    "Recall that in the RDF data model, all nodes are either Literals (strings) or URIs. All URIs have a namespace: for example in the URI `https://brickschema.org/schema/1.0.1/Brick#VAV`, the namespace is `https://brickschema.org/schema/1.0.1/Brick#` and the \"node\" is `VAV`. For convenience, we will abbreviate the URI so we can write `brick:VAV` instead of `https://brickschema.org/schema/1.0.1/Brick#VAV`.\n",
    "\n",
    "Here are the abbreviations we will use:\n",
    "\n",
    "| Namespace | Usage | Abbreviation |\n",
    "|-----------|-------|--------------|\n",
    "| `https://brickschema.org/schema/1.0.1/Brick#` | Brick classes | `brick:` |\n",
    "| `https://brickschema.org/schema/1.0.1/BrickFrame#` | Brick relationships | `bf:` |\n",
    "| `http://www.w3.org/1999/02/22-rdf-syntax-ns#` | class instantiation | `rdf:` |\n",
    "| `http://www.w3.org/2000/01/rdf-schema#` | subclassing | `rdfs:` |\n",
    "| `http://example.com#` | Nodes in our building | `ex:` |"
   ]
  },
  {
   "cell_type": "code",
   "execution_count": null,
   "metadata": {
    "collapsed": false
   },
   "outputs": [],
   "source": [
    "from query import BrickGraph\n",
    "bldg = BrickGraph()"
   ]
  },
  {
   "cell_type": "markdown",
   "metadata": {},
   "source": [
    "# SPARQL Queries\n",
    "\n",
    "## Exploring a Brick Model"
   ]
  },
  {
   "cell_type": "markdown",
   "metadata": {},
   "source": [
    "We begin by executing the 'identity' SPARQL query that lists all of the triples in our model. We have chosen the variable names `?sub` `?pred` `?obj` for clarity; the *position* of the variable within a SPARQL triple conveys its role, rather than the name. For example, because `?obj` is the third item in the SPARQL triple, we know it corresponds to a node in the graph."
   ]
  },
  {
   "cell_type": "code",
   "execution_count": null,
   "metadata": {
    "collapsed": false
   },
   "outputs": [],
   "source": [
    "rows = bldg.query(\"\"\"select ?sub ?pred ?obj where {\n",
    "?sub ?pred ?obj .\n",
    "}\"\"\", fullURI=False)\n",
    "\n",
    "# print the first 10 rows\n",
    "for row in rows[:10]:\n",
    "    print row"
   ]
  },
  {
   "cell_type": "markdown",
   "metadata": {},
   "source": [
    "We can see the node/edge/node construction in the returned triples.\n",
    "\n",
    "**Listing Instances**\n",
    "\n",
    "Let's amend this query so it starts giving us some more useful information. To start, let's list all of the VAVs in the building. To do this, we want to find all nodes that have a `rdf:type` edge (which indicates instantiation) to the `brick:VAV` node which represents the Brick VAV class. In the corresponding triple, we will put `rdf:type` in the \"predicate\" slot and `brick:VAV` in the \"object\" slot. In the subject slot, we will place a variable that will be populated when the query executes:\n",
    "\n",
    "```sparql\n",
    "?vav rdf:type brick:VAV\n",
    "```\n",
    "\n",
    "This corresponds to finding instances of the following subgraph:\n",
    "\n",
    "<img src=\"files/vavclassq.png\">"
   ]
  },
  {
   "cell_type": "code",
   "execution_count": null,
   "metadata": {
    "collapsed": false
   },
   "outputs": [],
   "source": [
    "rows = bldg.query(\"\"\"select ?vav where {\n",
    "?vav rdf:type brick:VAV .\n",
    "}\"\"\", fullURI=False)\n",
    "for row in rows:\n",
    "    print '?vav =',row[0]"
   ]
  },
  {
   "cell_type": "markdown",
   "metadata": {},
   "source": [
    "**Listing Neighbors**\n",
    "\n",
    "A natural question when interacting with a new Brick model is what kind of information is associated with a particular VAV. We can express this as a SPARQL query by seeing which triples exist that have a VAV as the subject.\n",
    "\n",
    "```sparql\n",
    "ex:VAV_RM-1100D   ?pred   ?obj \n",
    "```\n",
    "\n",
    "This corresponds to finding instances of the following subgraph:\n",
    "\n",
    "<img src=\"files/vavneighbor.png\">"
   ]
  },
  {
   "cell_type": "code",
   "execution_count": null,
   "metadata": {
    "collapsed": false
   },
   "outputs": [],
   "source": [
    "rows = bldg.query(\"\"\"select ?pred ?obj where {\n",
    "ex:VAV_RM-2150 ?pred ?obj .\n",
    "}\"\"\", fullURI=False)\n",
    "for row in rows:\n",
    "    print 'ex:VAV_RM-2150 has edge', row[0], 'to', row[1]"
   ]
  },
  {
   "cell_type": "markdown",
   "metadata": {},
   "source": [
    "**Listing Types**\n",
    "\n",
    "The above queries work well if we know the exact classes instantiated in our Brick model. If we don't have this information and want to discover it, we can leverage Brick's class hierarchy.\n",
    "\n",
    "<img src=\"files/tempsensorclass.png\">\n",
    "\n",
    "A common use case is finding which kinds of temperature sensors exist in the Brick model. The basic form of this uses both the `rdf:type` relationship (instantiation) and the `rdfs:subClassOf` relationship. By default, mentioning a predicate only traverses a single edge in the graph. We use SPARQL's `*` operator to match \"0 or more\" instances of an edge to transparently query more than one level of the hierarchy. SPARQL also provides a `+` operator to match \"1 or more\" edges.\n",
    "\n",
    "\n",
    "This matches instances that are *immediate* subclasses of `brick:Temperature_Sensor`\n",
    "```sparql\n",
    "?sensor   rdf:type/rdfs:subClassOf    brick:Temperature_Sensor\n",
    "```\n",
    "\n",
    "This matches instances of `brick:Temperature_Sensor` as well as instances of *any* subclass of `brick:Temperature_Sensor`\n",
    "```sparql\n",
    "?sensor   rdf:type/rdfs:subClassOf*    brick:Temperature_Sensor\n",
    "```\n",
    "\n",
    "This query corresponds to the following subgraph in the case of Zone Air Temperature Sensors\n",
    "\n",
    "<img src=\"files/tempsensorquery.png\">\n",
    "\n",
    "We can now run this query on our real Brick model to see what flavors of Temperature Sensor exist"
   ]
  },
  {
   "cell_type": "code",
   "execution_count": null,
   "metadata": {
    "collapsed": false
   },
   "outputs": [],
   "source": [
    "rows = bldg.query(\"\"\"select ?sensor ?class where {\n",
    "?sensor rdf:type ?class .\n",
    "?class rdfs:subClassOf* brick:Temperature_Sensor .\n",
    "}\"\"\", fullURI=False)\n",
    "for row in rows:\n",
    "    print row[0], 'is an instance of', row[1]"
   ]
  },
  {
   "cell_type": "markdown",
   "metadata": {},
   "source": [
    "If we are not interested in the intermediate class name, we can combine the expression of the `rdf:type` and `rdfs:subClassOf*` predicates using the `/` SPARQL operator:"
   ]
  },
  {
   "cell_type": "code",
   "execution_count": null,
   "metadata": {
    "collapsed": false
   },
   "outputs": [],
   "source": [
    "rows = bldg.query(\"\"\"select ?sensor where {\n",
    "?sensor rdf:type/rdfs:subClassOf* brick:Temperature_Sensor .\n",
    "}\"\"\", fullURI=False)\n",
    "for row in rows:\n",
    "    print row[0], 'is an instance of a subclass of Temperature_Sensor'"
   ]
  },
  {
   "cell_type": "markdown",
   "metadata": {
    "collapsed": true
   },
   "source": [
    "## Cross-Subsystem Queries\n",
    "\n",
    "One of the main benefits of Brick is its ability to represent multiple building subsystems and query across them. We will explore these capabilities of Brick through the implementation of two analytics applications:\n",
    "- Stuck Damper Detection\n",
    "- Simultaneous Heating and Cooling Detection\n",
    "\n",
    "The point of these explorations is not to implement cutting-edge fault detection/diagnosis algorithms, but rather to illustrate how Brick can make it easier to find the relevant data streams and make an implementation portable across buildings."
   ]
  },
  {
   "cell_type": "markdown",
   "metadata": {},
   "source": [
    "### Stuck Damper Detection\n",
    "\n",
    "One method of detecting stuck dampers is to look at the difference between the supply air flow sensor and setpoint for a VAV.\n",
    "\n",
    "- If the measured air flow is within some delta of the air flow setpoint, then the damper is fine\n",
    "- Else, it might be broken\n",
    "\n",
    "First, we write the Brick query(ies) to extract the relevant data streams: namely, the supply air flow sensor and supply air flow setpoint for each VAV in our building. In addition to the names of those points, we also extract from the Brick model some \"timeseries identifier\" that will point us to where we can obtain the actual data. Here, we use the `brick:hasUuid` relationship which points to an RDF literal corresponding to the name of a CSV data file.\n",
    "\n",
    "Lets progressively build up the query. First, lets begin by identifying all the VAVs in the building:\n",
    "\n",
    "```sparql\n",
    "?vav   rdf:type    brick:VAV .\n",
    "```\n",
    "\n",
    "We will then identify the supply air flow setpoints and sensors using the `rdf:type` relationship, and because they measure an aspect of a VAV, we know they will be related to a VAV using the `isPointOf` relationship.\n",
    "\n",
    "```sparql\n",
    "?setpoint   rdf:type     brick:Supply_Air_Flow_Setpoint .\n",
    "?sensor     rdf:type     brick:Supply_Air_Flow_Sensor .\n",
    "?setpoint   bf:isPointOf brick:VAV .\n",
    "?sensor     bf:isPointOf brick:VAV .\n",
    "```\n",
    "\n",
    "Lastly, we pull out the UUIDs for the timeseries\n",
    "\n",
    "```sparql\n",
    "?setpoint   brick:hasUuid  ?setpoint_uuid .\n",
    "?sensor     brick:hasUuid  ?sensor_uuid .\n",
    "```"
   ]
  },
  {
   "cell_type": "code",
   "execution_count": null,
   "metadata": {
    "collapsed": false
   },
   "outputs": [],
   "source": [
    "rows = bldg.query(\"\"\"select ?vav ?sensor ?setpoint ?sensor_uuid ?setpoint_uuid where {\n",
    "?vav       rdf:type     brick:VAV .\n",
    "?setpoint  rdf:type     brick:Supply_Air_Flow_Setpoint .\n",
    "?sensor    rdf:type     brick:Supply_Air_Flow_Sensor .\n",
    "?setpoint  bf:isPointOf ?vav .\n",
    "?setpoint  bf:isPointOf ?vav .\n",
    "?setpoint   brick:hasUuid  ?setpoint_uuid .\n",
    "?sensor     brick:hasUuid  ?sensor_uuid .\n",
    "}\"\"\", fullURI=False)\n",
    "\n",
    "# build a simple associative structure for the VAV points\n",
    "vavs = {}\n",
    "for row in rows:\n",
    "    vavs[row[0]] = {'setpoint': row[4], 'sensor': row[3]}\n",
    "print vavs"
   ]
  },
  {
   "cell_type": "code",
   "execution_count": null,
   "metadata": {
    "collapsed": false
   },
   "outputs": [],
   "source": [
    "THRESHOLD = 100\n",
    "for vavname, points in vavs.items():\n",
    "    setpoint_df = pd.read_csv('data/{0}.csv'.format(points['setpoint']), usecols=['timestamp','value'])\n",
    "    sensor_df = pd.read_csv('data/{0}.csv'.format(points['sensor']), usecols=['timestamp','value'])\n",
    "    \n",
    "    # parse timestamps\n",
    "    setpoint_df = setpoint_df.set_index(pd.to_datetime(setpoint_df.pop('timestamp')))\n",
    "    sensor_df = sensor_df.set_index(pd.to_datetime(sensor_df.pop('timestamp')))\n",
    "    \n",
    "    # resample 10-min mean\n",
    "    setpoint_df = setpoint_df.resample('10T').mean()\n",
    "    sensor_df = sensor_df.resample('10T').mean()\n",
    "\n",
    "    vav_df = setpoint_df.join(sensor_df, lsuffix='_setpoint', rsuffix='_sensor')\n",
    "    #vav_df.plot(figsize=(15,10))\n",
    "    \n",
    "    broken = vav_df[(vav_df['value_setpoint'] - vav_df['value_sensor']).abs() > THRESHOLD]\n",
    "    if len(broken) > 0:\n",
    "        ax = broken.plot(style='o', figsize=(15,10))\n",
    "        ax.set_title('{0} faults'.format(vavname))\n",
    "    else:\n",
    "        print vavname,'has no faults'\n",
    "    # TODO: rest of the analysis"
   ]
  },
  {
   "cell_type": "code",
   "execution_count": null,
   "metadata": {
    "collapsed": false
   },
   "outputs": [],
   "source": []
  },
  {
   "cell_type": "code",
   "execution_count": null,
   "metadata": {
    "collapsed": true
   },
   "outputs": [],
   "source": []
  },
  {
   "cell_type": "code",
   "execution_count": null,
   "metadata": {
    "collapsed": true
   },
   "outputs": [],
   "source": []
  }
 ],
 "metadata": {
  "kernelspec": {
   "display_name": "Python 2",
   "language": "python",
   "name": "python2"
  },
  "language_info": {
   "codemirror_mode": {
    "name": "ipython",
    "version": 2
   },
   "file_extension": ".py",
   "mimetype": "text/x-python",
   "name": "python",
   "nbconvert_exporter": "python",
   "pygments_lexer": "ipython2",
   "version": "2.7.12"
  }
 },
 "nbformat": 4,
 "nbformat_minor": 0
}
