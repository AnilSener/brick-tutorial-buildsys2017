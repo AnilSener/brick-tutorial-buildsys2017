{
 "cells": [
  {
   "cell_type": "code",
   "execution_count": null,
   "metadata": {
    "collapsed": true
   },
   "outputs": [],
   "source": [
    "# Install necessary Python pakcages\n",
    "# rdflib: RDF composition and querying with SPARQL in Python.\n",
    "try:\n",
    "    import rdflib\n",
    "except ImportError as e:\n",
    "    import pip\n",
    "    pip.main(['install', 'rdflib'])\n",
    "    import rdflib\n",
    "from rdflib import RDFS, RDF, Namespace, Graph, URIRef, Literal\n",
    "\n",
    "from common import *"
   ]
  },
  {
   "cell_type": "code",
   "execution_count": null,
   "metadata": {
    "collapsed": true
   },
   "outputs": [],
   "source": [
    "import json\n",
    "import pandas as pd\n",
    "import re"
   ]
  },
  {
   "cell_type": "code",
   "execution_count": null,
   "metadata": {
    "collapsed": true
   },
   "outputs": [],
   "source": [
    "# Load knowledge for the conversion.\n",
    "with open('metadata/re_dict.json', 'r') as fp:\n",
    "    re_dict = json.load(fp)\n",
    "equip_order = ['AHU', 'Return_Fan', 'Supply_Fan']\n",
    "with open('metadata/zone_room_map.json', 'r') as fp:\n",
    "    zone_room_map = json.load(fp)\n",
    "    \n",
    "# Load raw data\n",
    "df = pd.read_csv('metadata/brick_sample_building_raw.csv')"
   ]
  },
  {
   "cell_type": "code",
   "execution_count": null,
   "metadata": {
    "collapsed": true
   },
   "outputs": [],
   "source": [
    "# Consruct knowledge from Brick schema\n",
    "\n",
    "bg = Graph()\n",
    "bg.parse('Brick/dist/Brick.ttl', format='turtle') # Load Brick schema.\n",
    "subclasses_query = \"\"\"\n",
    "PREFIX brick: <https://brickschema.org/schema/1.0.1/Brick#>\n",
    "select ?tagset where {{\n",
    "?tagset rdfs:subClassOf+ brick:{0}.\n",
    "}}\n",
    "\"\"\"\n",
    "point_query = subclasses_query.format('Point')\n",
    "equip_query = subclasses_query.format('Equipment')\n",
    "loc_query = subclasses_query.format('Location')\n",
    "points = [str(row[0]).split('#')[-1] for row in bg.query(point_query)]\n",
    "equips = [str(row[0]).split('#')[-1] for row in bg.query(equip_query)]\n",
    "locs = [str(row[0]).split('#')[-1] for row in bg.query(loc_query)]\n",
    "\n",
    "# Cleanup rules\n",
    "equips = [equip for equip in equips if \\\n",
    "          not 'Command' in equip and\n",
    "          not 'Sensor' in equip and\n",
    "          not 'Status' in equip and\n",
    "          not 'Alarm' in equip\n",
    "         ]"
   ]
  },
  {
   "cell_type": "code",
   "execution_count": null,
   "metadata": {
    "collapsed": true
   },
   "outputs": [],
   "source": [
    "g = Graph() # Initialize a graph\n",
    "RDFS # predefined namespace as 'http://www.w3.org/2000/01/rdf-schema#'\n",
    "RDF # predefined namespace as 'http://www.w3.org/1999/02/22-rdf-syntax-ns#'\n",
    "BRICK = Namespace('https://brickschema.org/schema/1.0.1/Brick#')\n",
    "BF = Namespace('https://brickschema.org/schema/1.0.1/BrickFrame#')\n",
    "EX = Namespace('http://example.com#')\n",
    "g.bind('ex', EX)\n",
    "g.bind('brick', BRICK)\n",
    "g.bind('bf', BF)\n",
    "g.bind('rdfs', RDFS)\n",
    "g.bind('rdf', RDF)\n",
    "\n"
   ]
  },
  {
   "cell_type": "code",
   "execution_count": null,
   "metadata": {
    "collapsed": true
   },
   "outputs": [],
   "source": [
    "for row in df.iterrows():\n",
    "    vendor_name = row[1]['Vendor Given Name']\n",
    "    uuid = row[1]['uuid']\n",
    "    ############# Parsing Phase\n",
    "    # Extract all entities in vendor_name\n",
    "    entity_dict = dict()\n",
    "    raw_words = vendor_name.split('.') # This building uses '.' as a delimiter but not always it's comprehensive.\n",
    "    \n",
    "    # split more if needed\n",
    "    words = []\n",
    "    for word in raw_words:\n",
    "        if 'SF' in word or 'RF' in word:\n",
    "            words += word.split('-')\n",
    "        else:\n",
    "            words.append(word)\n",
    "    # Apply RE rules to detect tagsets.\n",
    "    for word in words:\n",
    "        for key, tagset in re_dict.items():\n",
    "            if re.findall(key, word):\n",
    "                if tagset in points:\n",
    "                    entity_dict[vendor_name] = tagset\n",
    "                else:\n",
    "                    entity_dict[word] = tagset # We will use a word as an entity name.\n",
    "    \n",
    "    ############# Add Brick Relationships\n",
    "    # Add instance relationships\n",
    "    for entity, tagset in entity_dict.items():\n",
    "        g.add((EX[entity], RDF['type'], BRICK[tagset]))\n",
    "    \n",
    "    # Add Location <-> Others\n",
    "    ## Find all location entities\n",
    "    loc_entities = list()\n",
    "    for entity, tagset in entity_dict.items():\n",
    "        if tagset in locs:\n",
    "            loc_entities.append(entity)\n",
    "    ## Assign hasLocation relationships to all non-location entities with the location entities.\n",
    "    for entity, tagset in entity_dict.items():\n",
    "        if tagset not in locs:\n",
    "            for loc_entity in loc_entities:\n",
    "                g.add((EX[entity], BF['hasLocation'], EX[loc_entity]))\n",
    "    \n",
    "    # Zone corresponds to a VAV.\n",
    "    vav_entity = None\n",
    "    for entity, tagset in entity_dict.items():\n",
    "        if tagset == 'HVAC_Zone':\n",
    "            vav_entity = 'VAV_' + entity\n",
    "            g.add((EX[vav_entity], RDF['type'], BRICK['VAV']))\n",
    "            g.add((EX[vav_entity], BF['feeds'], EX[entity]))\n",
    "    if vav_entity:\n",
    "        entity_dict[vav_entity] = 'VAV'\n",
    "                \n",
    "    # Add Equip <-> Point\n",
    "    ## Find all equip entities\n",
    "    equip_entities = list()\n",
    "    for entity, tagset in entity_dict.items():\n",
    "        if tagset in equips:\n",
    "            equip_entities.append(entity)\n",
    "    ## Assign isPointOf relationships to all Point entities \n",
    "    for entity, tagset in entity_dict.items():\n",
    "        if tagset in points:\n",
    "            for equip_entity in equip_entities:\n",
    "                g.add((EX[entity], BF['isPointOf'], EX[equip_entity]))\n",
    "    ## Add inclusive relationships among equipments\n",
    "    #if len(equip_entities) > 1:\n",
    "    #    rank_equip_list = [(equip, equip_orders.index(equip))]\n",
    "    #    sorted(equip_entities)\n",
    "    \n",
    "    # Add UUID\n",
    "    for entity, tagset in entity_dict.items():\n",
    "        if tagset in points:\n",
    "            g.add((EX[entity], BRICK['hasUuid'], Literal(str(uuid))))"
   ]
  },
  {
   "cell_type": "code",
   "execution_count": null,
   "metadata": {
    "collapsed": true
   },
   "outputs": [],
   "source": [
    "# Add zone-room inclusive relationships\n",
    "for zone, rooms in zone_room_map.items():\n",
    "    for room in rooms:\n",
    "        g.add((EX[room], RDF['type'], BRICK['Room']))\n",
    "        g.add((EX[room], BF['isPartOf'], EX[zone]))\n",
    "        \n",
    "# The AHU feeds all VAVs\n",
    "## find VAVs.\n",
    "res = g.query(\"select ?vav where {?vav a <https://brickschema.org/schema/1.0.1/Brick#VAV>}\")\n",
    "vavs = [str(row[0]).split('#')[-1] for row in res]\n",
    "## Add feeds relationship\n",
    "for vav in vavs:\n",
    "    g.add((EX['AH1'], BF['feeds'], EX[vav]))"
   ]
  },
  {
   "cell_type": "code",
   "execution_count": null,
   "metadata": {
    "scrolled": true
   },
   "outputs": [],
   "source": [
    "print_graph(g)"
   ]
  },
  {
   "cell_type": "markdown",
   "metadata": {},
   "source": [
    "### Conversion Rules (for this building)\n",
    "1. A metadata is the name of the data point.\n",
    "2. Implicit Relationships:\n",
    "  - When a location is found, every other entitiy hasLocation the location.\n",
    "  - When equipment is is found, the point isPointOf the equipment.\n",
    "  - When multiple equipment is found, their hierarchy is assumed. In AHU-SF, SF isPartOf AHU. Same for AHU-RF.\n",
    "  - When HVAC Zone is found, there is a corresponding VAV."
   ]
  },
  {
   "cell_type": "code",
   "execution_count": null,
   "metadata": {
    "collapsed": true
   },
   "outputs": [],
   "source": [
    "g.serialize('metadata/sample_building.ttl', format='turtle')"
   ]
  }
 ],
 "metadata": {
  "kernelspec": {
   "display_name": "Python 3",
   "language": "python",
   "name": "python3"
  },
  "language_info": {
   "codemirror_mode": {
    "name": "ipython",
    "version": 3
   },
   "file_extension": ".py",
   "mimetype": "text/x-python",
   "name": "python",
   "nbconvert_exporter": "python",
   "pygments_lexer": "ipython3",
   "version": "3.6.1"
  }
 },
 "nbformat": 4,
 "nbformat_minor": 2
}
